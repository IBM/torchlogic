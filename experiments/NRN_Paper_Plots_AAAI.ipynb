{
 "cells": [
  {
   "cell_type": "code",
   "execution_count": null,
   "id": "cfd81e8e-9a70-4b1d-800e-592a717a1ac4",
   "metadata": {},
   "outputs": [],
   "source": [
    "import glob\n",
    "import optuna\n",
    "import joblib\n",
    "import itertools\n",
    "import matplotlib.pyplot as plt\n",
    "import pandas as pd\n",
    "import numpy as np\n",
    "from collections import defaultdict\n",
    "from scipy import stats\n",
    "from scipy.stats import wilcoxon, mannwhitneyu"
   ]
  },
  {
   "cell_type": "code",
   "execution_count": null,
   "id": "f61a04bb-1a40-407c-93c5-0acef8a984f0",
   "metadata": {},
   "outputs": [],
   "source": [
    "optuna.__version__"
   ]
  },
  {
   "cell_type": "markdown",
   "id": "fd3a99fe-1964-4e20-8ba6-8f482b3dd2ce",
   "metadata": {},
   "source": [
    "# BRN Hyper-Parameter Importances"
   ]
  },
  {
   "cell_type": "code",
   "execution_count": null,
   "id": "5c93152a-697b-4930-867b-c6e03337a6cd",
   "metadata": {},
   "outputs": [],
   "source": [
    "studies = glob.glob('path/to/studiesBRRN-NODA*.pkl')\n",
    "results = defaultdict(list)\n",
    "for study_path in studies:\n",
    "    study_keys = [\n",
    "             'learning_rate',\n",
    "             'weight_init',\n",
    "             'ucb_scale',\n",
    "             'increase_prune_plateau_count_plateau_count',\n",
    "             'perform_prune_quantile',\n",
    "             'n_layers',\n",
    "             'delta',\n",
    "             'add_negations',\n",
    "             'layer_sizes',\n",
    "             'early_stopping_plateau_count',\n",
    "             'T_0',\n",
    "             'perform_prune_plateau_count',\n",
    "             'T_mult',\n",
    "             'prune_strategy',\n",
    "             'increase_prune_plateau_count',\n",
    "             'use_lookahead',\n",
    "             'normal_form',\n",
    "             'use_weight_decay',\n",
    "             'swa',\n",
    "             'bootstrap',\n",
    "             # 'use_l1',\n",
    "             # 'use_early_stopping',\n",
    "             # 'augment',\n",
    "             'n_selected_features_input',\n",
    "             'n_selected_features_output',\n",
    "             'n_selected_features_internal']\n",
    "    study = joblib.load(study_path)\n",
    "    ie = optuna.importance.FanovaImportanceEvaluator()\n",
    "    imp = ie.evaluate(study)\n",
    "    for k in study_keys:\n",
    "        if k in imp:\n",
    "            results[k] += [imp[k]]\n",
    "        else:\n",
    "            results[k] += [0]"
   ]
  },
  {
   "cell_type": "code",
   "execution_count": null,
   "id": "ae59fc8f-d737-4493-b512-8a10b73bd395",
   "metadata": {},
   "outputs": [],
   "source": [
    "columns = list(results.keys())\n",
    "means = [np.mean(v) for v in results.values()]\n",
    "stdevs = [np.std(v) for v in results.values()]"
   ]
  },
  {
   "cell_type": "code",
   "execution_count": null,
   "id": "54a0c581-29dc-4cb0-a21a-4f0b41cb5f96",
   "metadata": {},
   "outputs": [],
   "source": [
    "df = pd.DataFrame({'features': columns, 'means': means, 'stdevs': stdevs})\n",
    "df.sort_values('means', ascending=True, inplace=True)"
   ]
  },
  {
   "cell_type": "code",
   "execution_count": null,
   "id": "3b176f97-ede7-45e7-9e9f-90567a153d74",
   "metadata": {},
   "outputs": [],
   "source": [
    "plt.barh(\n",
    "    list(df['features']), \n",
    "    list(df['means']), \n",
    "    # xerr=list((df['stdevs'] * 1.96).tolist()), \n",
    "    capsize=6, color='tab:blue'\n",
    ")\n",
    "\n",
    "plt.ylabel(\"Hyper-Parameter\")\n",
    "plt.xlabel(\"Importance\")\n",
    "plt.title(\"Mean Hyper-Parameter Importances\")\n",
    "\n",
    "plt.grid()\n",
    "plt.tight_layout()\n",
    "plt.savefig(\"path/to/figures/parameter_importance.png\")\n",
    "plt.show()"
   ]
  },
  {
   "cell_type": "markdown",
   "id": "c7dc0f51-fcab-4a95-9285-47236abbebd1",
   "metadata": {},
   "source": [
    "# Compute Time"
   ]
  },
  {
   "cell_type": "code",
   "execution_count": null,
   "id": "5673eca7-d78f-46a3-a937-5fe16e93e361",
   "metadata": {},
   "outputs": [],
   "source": [
    "studies = glob.glob('/path/to/studies/NAM-HO*.pkl')"
   ]
  },
  {
   "cell_type": "code",
   "execution_count": null,
   "id": "82035b54-f08f-4ba3-8aea-cd93dcc8e0a3",
   "metadata": {},
   "outputs": [],
   "source": [
    "study = joblib.load(studies[0])"
   ]
  },
  {
   "cell_type": "code",
   "execution_count": null,
   "id": "109b4370-7bd1-4529-aeae-ab6b0cac626a",
   "metadata": {},
   "outputs": [],
   "source": [
    "study_df = study.trials_dataframe()"
   ]
  },
  {
   "cell_type": "code",
   "execution_count": null,
   "id": "bca3f0e3-6ea8-4d9e-968b-8ed1ae9ac7d9",
   "metadata": {},
   "outputs": [],
   "source": [
    "study_df[study_df['state']=='COMPLETE'].shape"
   ]
  },
  {
   "cell_type": "code",
   "execution_count": null,
   "id": "3bcfbc81-da71-4faa-8ba0-2594724a8b5a",
   "metadata": {},
   "outputs": [],
   "source": [
    "study_df['duration'].iloc[0]"
   ]
  },
  {
   "cell_type": "code",
   "execution_count": null,
   "id": "aca5deed-bb07-4e94-a669-134dc0e1b9c5",
   "metadata": {},
   "outputs": [],
   "source": [
    "def collect_compute_time_by_model(studies):\n",
    "    results = defaultdict(list)\n",
    "    best_trials = defaultdict(list)\n",
    "    for i, study_path in enumerate(studies):\n",
    "        study = joblib.load(study_path)\n",
    "        study_df = study.trials_dataframe()\n",
    "        if study_df[study_df['state'] == 'COMPLETE'].shape[0] == 400:\n",
    "            print(study_df[study_df['state'] == 'COMPLETE'].shape)\n",
    "            study_df = study_df[study_df['state'] == 'COMPLETE']    \n",
    "        else:\n",
    "            print(f\"did not find 400 complete trials {study_df[study_df['state'] == 'COMPLETE'].shape[0]}\")\n",
    "            study_df = study_df[study_df['state'] != 'FAIL']\n",
    "            study_df = study_df.head(400)\n",
    "            print(f\"using {study_df.shape[0]} non failed trials\")\n",
    "        results[str(i) + '_study_duration'] = study_df['duration'].values.tolist()\n",
    "        if len(results[str(i) + '_study_duration']) < 400:\n",
    "            results[str(i) + '_study_duration'] += [np.nan] * (400 - len(results[str(i) + '_study_duration']))\n",
    "    results = pd.DataFrame(results)\n",
    "    return results"
   ]
  },
  {
   "cell_type": "code",
   "execution_count": null,
   "id": "c39dbda6-d961-413c-b2c5-fc279b3470ed",
   "metadata": {},
   "outputs": [],
   "source": [
    "studies = glob.glob('path/to/studies/BRRN-NODA*.pkl')\n",
    "brn_durations = collect_compute_time_by_model(studies)"
   ]
  },
  {
   "cell_type": "code",
   "execution_count": null,
   "id": "22f62f71-e6d6-41ad-a5fc-0f1d4e22840e",
   "metadata": {},
   "outputs": [],
   "source": [
    "studies = glob.glob('path/to/studies/RF*.pkl')\n",
    "rf_durations = collect_compute_time_by_model(studies)"
   ]
  },
  {
   "cell_type": "code",
   "execution_count": null,
   "id": "0fdf029c-e4ed-472d-914a-d12f7ba32fa5",
   "metadata": {},
   "outputs": [],
   "source": [
    "studies = glob.glob('path/to/studies/GBT*.pkl')\n",
    "gbt_durations = collect_compute_time_by_model(studies)"
   ]
  },
  {
   "cell_type": "code",
   "execution_count": null,
   "id": "91826e3a-7f3f-4b8d-b44f-a513616fefe8",
   "metadata": {},
   "outputs": [],
   "source": [
    "studies = glob.glob('path/to/studies/XGB*.pkl')\n",
    "xgb_durations = collect_compute_time_by_model(studies)"
   ]
  },
  {
   "cell_type": "code",
   "execution_count": null,
   "id": "c5bf9550-1d11-48c4-a071-a3f9dd8e2dc6",
   "metadata": {},
   "outputs": [],
   "source": [
    "studies = glob.glob('path/to/studies/PYTORCH-NN-NODA-200*.pkl')\n",
    "mlp_durations = collect_compute_time_by_model(studies)"
   ]
  },
  {
   "cell_type": "code",
   "execution_count": null,
   "id": "604d31e0-6c43-41d6-8b9a-a9053dd8842a",
   "metadata": {},
   "outputs": [],
   "source": [
    "studies = glob.glob('path/to/studies/FTT-NODA*.pkl')\n",
    "ftt_durations = collect_compute_time_by_model(studies)"
   ]
  },
  {
   "cell_type": "code",
   "execution_count": null,
   "id": "84ed09ee-2172-430c-bfb4-f4113a494a55",
   "metadata": {},
   "outputs": [],
   "source": [
    "studies = glob.glob('path/to/studies/NAM-HO*.pkl')\n",
    "nam_durations = collect_compute_time_by_model(studies)"
   ]
  },
  {
   "cell_type": "code",
   "execution_count": null,
   "id": "0ac7a318-e770-45c2-a462-70ba334ff1cc",
   "metadata": {},
   "outputs": [],
   "source": [
    "studies = glob.glob('path/to/studies/BRCG*.pkl')\n",
    "brcg_durations = collect_compute_time_by_model(studies)"
   ]
  },
  {
   "cell_type": "code",
   "execution_count": null,
   "id": "c43998a3-be97-421a-9bc1-f7b106a0ceeb",
   "metadata": {},
   "outputs": [],
   "source": [
    "studies = glob.glob('path/to/studies/DANet-200*.pkl')\n",
    "dan_durations = collect_compute_time_by_model(studies)"
   ]
  },
  {
   "cell_type": "code",
   "execution_count": null,
   "id": "1b56aec3-b389-45ec-bb26-12ebc80f8aa5",
   "metadata": {},
   "outputs": [],
   "source": [
    "studies = glob.glob('path/to/studies/Cofrnet*.pkl')\n",
    "cof_durations = collect_compute_time_by_model(studies)"
   ]
  },
  {
   "cell_type": "code",
   "execution_count": null,
   "id": "c9d95bb6-81cd-4cfe-801a-9c8787e84de6",
   "metadata": {},
   "outputs": [],
   "source": [
    "studies = glob.glob('path/to/studies/Difflogic*.pkl')\n",
    "dif_durations = collect_compute_time_by_model(studies)"
   ]
  },
  {
   "cell_type": "code",
   "execution_count": null,
   "id": "a0457456-a182-46f0-a244-f90496cb7e5c",
   "metadata": {},
   "outputs": [],
   "source": [
    "brn_durations.applymap(lambda x: pd.Timedelta(x)).mean().mean()"
   ]
  },
  {
   "cell_type": "code",
   "execution_count": null,
   "id": "62f85b43-4f07-4735-920d-debf2162e350",
   "metadata": {},
   "outputs": [],
   "source": [
    "rf_durations.applymap(lambda x: pd.Timedelta(x)).mean().mean()"
   ]
  },
  {
   "cell_type": "code",
   "execution_count": null,
   "id": "56fac9f8-a5ed-4c19-a32c-0d340d36ab62",
   "metadata": {},
   "outputs": [],
   "source": [
    "gbt_durations.applymap(lambda x: pd.Timedelta(x)).mean().mean()"
   ]
  },
  {
   "cell_type": "code",
   "execution_count": null,
   "id": "017d592a-68f4-4188-881f-3929b9c4ac7f",
   "metadata": {},
   "outputs": [],
   "source": [
    "xgb_durations.applymap(lambda x: pd.Timedelta(x)).mean().mean()"
   ]
  },
  {
   "cell_type": "code",
   "execution_count": null,
   "id": "4573dd76-2cea-4b60-9844-4720eb203bc6",
   "metadata": {},
   "outputs": [],
   "source": [
    "mlp_durations.applymap(lambda x: pd.Timedelta(x)).mean().mean()"
   ]
  },
  {
   "cell_type": "code",
   "execution_count": null,
   "id": "dc8786d9-b3c8-4a41-ae86-f4932a0084b8",
   "metadata": {},
   "outputs": [],
   "source": [
    "ftt_durations.applymap(lambda x: pd.Timedelta(x)).mean(skipna=True).mean(skipna=True)"
   ]
  },
  {
   "cell_type": "code",
   "execution_count": null,
   "id": "bf349eec-6275-4781-9340-982e4b2d906a",
   "metadata": {},
   "outputs": [],
   "source": [
    "nam_durations.applymap(lambda x: pd.Timedelta(x)).mean(skipna=True).mean(skipna=True)"
   ]
  },
  {
   "cell_type": "code",
   "execution_count": null,
   "id": "52106ae0-9409-49d7-8f9d-9d9e1769bcaf",
   "metadata": {},
   "outputs": [],
   "source": [
    "brcg_durations.applymap(lambda x: pd.Timedelta(x)).mean(skipna=True).mean(skipna=True)"
   ]
  },
  {
   "cell_type": "code",
   "execution_count": null,
   "id": "2fcdb018-93c8-4935-aeeb-4229115178e7",
   "metadata": {},
   "outputs": [],
   "source": [
    "dan_durations.applymap(lambda x: pd.Timedelta(x)).mean(skipna=True).mean(skipna=True)"
   ]
  },
  {
   "cell_type": "code",
   "execution_count": null,
   "id": "4e9466fc-dedb-4527-bb71-fba5bd2c40a7",
   "metadata": {},
   "outputs": [],
   "source": [
    "cof_durations.applymap(lambda x: pd.Timedelta(x)).mean(skipna=True).mean(skipna=True)"
   ]
  },
  {
   "cell_type": "code",
   "execution_count": null,
   "id": "0382d5a1-0e67-4330-a81c-6756d1c77181",
   "metadata": {},
   "outputs": [],
   "source": [
    "dif_durations.applymap(lambda x: pd.Timedelta(x)).mean(skipna=True).mean(skipna=True)"
   ]
  },
  {
   "cell_type": "markdown",
   "id": "fbcfb91d-88ca-4f1c-8227-1677d42a2b9a",
   "metadata": {},
   "source": [
    "# BRN Use of FeatureBinarization"
   ]
  },
  {
   "cell_type": "code",
   "execution_count": null,
   "id": "01ba588b-90dc-44fa-acfd-63bca884b64c",
   "metadata": {},
   "outputs": [],
   "source": [
    "studies = glob.glob('path/to/studies/BRRN-NODA*.pkl')\n",
    "use_fbt = []\n",
    "for study_path in studies:\n",
    "    study = joblib.load(study_path)\n",
    "    best_params = study.best_params\n",
    "    if 'use_fbt' in best_params:\n",
    "        use_fbt += [best_params['use_fbt']]\n",
    "    else:\n",
    "        use_fbt += [False]   "
   ]
  },
  {
   "cell_type": "code",
   "execution_count": null,
   "id": "4d765517-2571-4c92-a7c7-d3a8e6189861",
   "metadata": {},
   "outputs": [],
   "source": [
    "sum(use_fbt), len(use_fbt), sum(use_fbt)/len(use_fbt)"
   ]
  },
  {
   "cell_type": "markdown",
   "id": "a38040f3-56b8-4a14-a4ad-308aa7bee223",
   "metadata": {},
   "source": [
    "# MLP Use of FeatureBinarization"
   ]
  },
  {
   "cell_type": "code",
   "execution_count": null,
   "id": "7e6e7217-02c6-4d30-a85f-b16cad039137",
   "metadata": {},
   "outputs": [],
   "source": [
    "studies = glob.glob('path/to/studies/PYTORCH-NN-NODA-200*.pkl')\n",
    "use_fbt = []\n",
    "for study_path in studies:\n",
    "    study = joblib.load(study_path)\n",
    "    best_params = study.best_params\n",
    "    if 'use_fbt' in best_params:\n",
    "        use_fbt += [best_params['use_fbt']]\n",
    "    else:\n",
    "        use_fbt += [False]  "
   ]
  },
  {
   "cell_type": "code",
   "execution_count": null,
   "id": "da0cc523-2b44-48ed-9de9-a3b923ec12ea",
   "metadata": {},
   "outputs": [],
   "source": [
    "sum(use_fbt), len(use_fbt), sum(use_fbt)/len(use_fbt)"
   ]
  },
  {
   "cell_type": "markdown",
   "id": "be0f1198-1bab-49be-a46d-d656a54c1742",
   "metadata": {},
   "source": [
    "# Optimization History"
   ]
  },
  {
   "cell_type": "code",
   "execution_count": null,
   "id": "5e41b8cd-971d-4068-8836-4d419a006fb3",
   "metadata": {},
   "outputs": [],
   "source": [
    "studies = glob.glob('path/to/studies/BRRN-NODA*.pkl')\n",
    "study = joblib.load(studies[0])\n",
    "fig = optuna.visualization.plot_optimization_history(study)\n",
    "fig.show()"
   ]
  },
  {
   "cell_type": "code",
   "execution_count": null,
   "id": "85470a1b-8657-46a5-aa4d-42eff61b3c93",
   "metadata": {},
   "outputs": [],
   "source": [
    "study_df = study.trials_dataframe()"
   ]
  },
  {
   "cell_type": "code",
   "execution_count": null,
   "id": "a3a908d2-c1b0-4548-90c3-8daf01e1269f",
   "metadata": {},
   "outputs": [],
   "source": [
    "study_df.iloc[study_df['value'].argmax()]['number']"
   ]
  },
  {
   "cell_type": "code",
   "execution_count": null,
   "id": "cb562bfc-99ad-45ad-a27b-fe5c35bdae5f",
   "metadata": {},
   "outputs": [],
   "source": [
    "study_df = study_df[study_df['state'] == 'COMPLETE']"
   ]
  },
  {
   "cell_type": "code",
   "execution_count": null,
   "id": "d492ab6a-95a9-4dec-9847-289f60a0931d",
   "metadata": {},
   "outputs": [],
   "source": [
    "study_df = study_df.head(400)"
   ]
  },
  {
   "cell_type": "code",
   "execution_count": null,
   "id": "98291f22-6915-45e8-a3cb-394d4a7ad2fc",
   "metadata": {},
   "outputs": [],
   "source": [
    "study_df['value'].values.tolist()"
   ]
  },
  {
   "cell_type": "code",
   "execution_count": null,
   "id": "b39dc628-134d-45e1-a497-1a4b1080c41d",
   "metadata": {},
   "outputs": [],
   "source": [
    "def collect_optimization_histories_by_model(studies, model_name='BRN'):\n",
    "    results = defaultdict(list)\n",
    "    best_trials = defaultdict(list)\n",
    "    for i, study_path in enumerate(studies):\n",
    "        study = joblib.load(study_path)\n",
    "        study_df = study.trials_dataframe()\n",
    "        if study_df[study_df['state'] == 'COMPLETE'].shape[0] == 400:\n",
    "            print(study_df[study_df['state'] == 'COMPLETE'].shape)\n",
    "            study_df = study_df[study_df['state'] == 'COMPLETE']    \n",
    "        else:\n",
    "            print(f\"did not find 400 complete trials {study_df[study_df['state'] == 'COMPLETE'].shape[0]}\")\n",
    "            study_df = study_df[study_df['state'] != 'FAIL']\n",
    "            study_df = study_df.head(400)\n",
    "            print(f\"using {study_df.shape[0]} non failed trials\")\n",
    "        results[str(i) + '_study_value'] = study_df['value'].values.tolist()\n",
    "        if len(results[str(i) + '_study_value']) < 400:\n",
    "            results[str(i) + '_study_value'] += [np.nan] * (400 - len(results[str(i) + '_study_value']))\n",
    "        best_trials[str(i) + '_study_best_trial'] = [study_df.iloc[study_df['value'].argmax()]['number']]\n",
    "    results = pd.DataFrame(results)\n",
    "    best_trials = pd.DataFrame(best_trials)\n",
    "    return results, best_trials"
   ]
  },
  {
   "cell_type": "code",
   "execution_count": null,
   "id": "35826e9a-3306-48e3-aefc-a25e0e141ac6",
   "metadata": {},
   "outputs": [],
   "source": [
    "studies = glob.glob('path/to/studies/BRRN-NODA*.pkl')\n",
    "brn_optimization_histories, brn_best_trials = collect_optimization_histories_by_model(studies, model_name='BRN')\n",
    "normalized_brn_optimization_histories = brn_optimization_histories/brn_optimization_histories.iloc[0, :]\n",
    "brn_optimization_histories_mean = normalized_brn_optimization_histories.mean(axis=1)\n",
    "brn_optimization_histories_std = normalized_brn_optimization_histories.std(axis=1)\n",
    "brn_optimization_histories_ci = 1.96 * brn_optimization_histories_std / np.sqrt(brn_optimization_histories.shape[1])"
   ]
  },
  {
   "cell_type": "code",
   "execution_count": null,
   "id": "579bda67-eb70-4bce-851b-e331b539511a",
   "metadata": {},
   "outputs": [],
   "source": [
    "studies = glob.glob('path/to/studies/RF*.pkl')\n",
    "rf_optimization_histories, rf_best_trials = collect_optimization_histories_by_model(studies, model_name='RF')\n",
    "normalized_rf_optimization_histories = rf_optimization_histories/brn_optimization_histories.iloc[0, :]\n",
    "rf_optimization_histories_mean = normalized_rf_optimization_histories.mean(axis=1)\n",
    "rf_optimization_histories_std = normalized_rf_optimization_histories.std(axis=1)\n",
    "rf_optimization_histories_ci = 1.96 * rf_optimization_histories_std / np.sqrt(rf_optimization_histories.shape[1])"
   ]
  },
  {
   "cell_type": "code",
   "execution_count": null,
   "id": "9a43b679-1db8-4adb-ac8d-5c6b09ccc4e0",
   "metadata": {},
   "outputs": [],
   "source": [
    "studies = glob.glob('path/to/studies/GBT*.pkl')\n",
    "gbt_optimization_histories, gbt_best_trials = collect_optimization_histories_by_model(studies, model_name='GBT')\n",
    "normalized_gbt_optimization_histories = gbt_optimization_histories/brn_optimization_histories.iloc[0, :]\n",
    "gbt_optimization_histories_mean = normalized_gbt_optimization_histories.mean(axis=1)\n",
    "gbt_optimization_histories_std = normalized_gbt_optimization_histories.std(axis=1)\n",
    "gbt_optimization_histories_ci = 1.96 * gbt_optimization_histories_std / np.sqrt(gbt_optimization_histories.shape[1])"
   ]
  },
  {
   "cell_type": "code",
   "execution_count": null,
   "id": "f5c355e9-970f-46a4-ba4f-69685e9be2d3",
   "metadata": {},
   "outputs": [],
   "source": [
    "studies = glob.glob('path/to/studies/XGB*.pkl')\n",
    "xgb_optimization_histories, xgb_best_trials = collect_optimization_histories_by_model(studies, model_name='XGB')\n",
    "normalized_xgb_optimization_histories = xgb_optimization_histories/brn_optimization_histories.iloc[0, :]\n",
    "xgb_optimization_histories_mean = normalized_xgb_optimization_histories.mean(axis=1)\n",
    "xgb_optimization_histories_std = normalized_xgb_optimization_histories.std(axis=1)\n",
    "xgb_optimization_histories_ci = 1.96 * xgb_optimization_histories_std / np.sqrt(xgb_optimization_histories.shape[1])"
   ]
  },
  {
   "cell_type": "code",
   "execution_count": null,
   "id": "313fe96a-1b8a-4eff-8ea4-e772ba0ac1d6",
   "metadata": {},
   "outputs": [],
   "source": [
    "studies = glob.glob('path/to/studies/PYTORCH-NN-NODA-200*.pkl')\n",
    "mlp_optimization_histories, mlp_best_trials = collect_optimization_histories_by_model(studies, model_name='MLP')\n",
    "normalized_mlp_optimization_histories = mlp_optimization_histories/brn_optimization_histories.iloc[0, :]\n",
    "mlp_optimization_histories_mean = normalized_mlp_optimization_histories.mean(axis=1)\n",
    "mlp_optimization_histories_std = normalized_mlp_optimization_histories.std(axis=1)\n",
    "mlp_optimization_histories_ci = 1.96 * mlp_optimization_histories_std / np.sqrt(mlp_optimization_histories.shape[1])"
   ]
  },
  {
   "cell_type": "code",
   "execution_count": null,
   "id": "6b14ba72-70e8-4e52-bc52-0d7925ae2b0e",
   "metadata": {},
   "outputs": [],
   "source": [
    "studies = glob.glob('path/to/studies/FTT-NODA*.pkl')\n",
    "ftt_optimization_histories, ftt_best_trials = collect_optimization_histories_by_model(studies, model_name='FTT')\n",
    "normalized_ftt_optimization_histories = ftt_optimization_histories/brn_optimization_histories.iloc[0, :]\n",
    "ftt_optimization_histories_mean = normalized_ftt_optimization_histories.mean(axis=1)\n",
    "ftt_optimization_histories_std = normalized_ftt_optimization_histories.std(axis=1)\n",
    "ftt_optimization_histories_ci = 1.96 * ftt_optimization_histories_std / np.sqrt(ftt_optimization_histories.shape[1])"
   ]
  },
  {
   "cell_type": "code",
   "execution_count": null,
   "id": "4297ba65-ca4f-4f97-9547-f21cbf7865a2",
   "metadata": {},
   "outputs": [],
   "source": [
    "studies = glob.glob('path/to/studies/DANet-200*.pkl')\n",
    "dan_optimization_histories, dan_best_trials = collect_optimization_histories_by_model(studies, model_name='DAN')\n",
    "normalized_dan_optimization_histories = dan_optimization_histories/brn_optimization_histories.iloc[0, :]\n",
    "dan_optimization_histories_mean = normalized_dan_optimization_histories.mean(axis=1)\n",
    "dan_optimization_histories_std = normalized_dan_optimization_histories.std(axis=1)\n",
    "dan_optimization_histories_ci = 1.96 * dan_optimization_histories_std / np.sqrt(dan_optimization_histories.shape[1])"
   ]
  },
  {
   "cell_type": "code",
   "execution_count": null,
   "id": "ccf1eeeb-e419-4307-bbc2-ab0e004c0221",
   "metadata": {},
   "outputs": [],
   "source": [
    "studies = glob.glob('path/to/studies/NAM-HO*.pkl')\n",
    "nam_optimization_histories, nam_best_trials = collect_optimization_histories_by_model(studies, model_name='NAM')\n",
    "normalized_nam_optimization_histories = nam_optimization_histories/brn_optimization_histories.iloc[0, :]\n",
    "nam_optimization_histories_mean = normalized_nam_optimization_histories.mean(axis=1)\n",
    "nam_optimization_histories_std = normalized_nam_optimization_histories.std(axis=1)\n",
    "nam_optimization_histories_ci = 1.96 * nam_optimization_histories_std / np.sqrt(nam_optimization_histories.shape[1])"
   ]
  },
  {
   "cell_type": "code",
   "execution_count": null,
   "id": "29fad5ac-86e0-4d27-bb2e-bceeda108ae9",
   "metadata": {},
   "outputs": [],
   "source": [
    "studies = glob.glob('path/to/studies/Cofrnet*.pkl')\n",
    "cfn_optimization_histories, cfn_best_trials = collect_optimization_histories_by_model(studies, model_name='CFN')\n",
    "normalized_cfn_optimization_histories = cfn_optimization_histories/brn_optimization_histories.iloc[0, :]\n",
    "cfn_optimization_histories_mean = normalized_cfn_optimization_histories.mean(axis=1)\n",
    "cfn_optimization_histories_std = normalized_cfn_optimization_histories.std(axis=1)\n",
    "cfn_optimization_histories_ci = 1.96 * cfn_optimization_histories_std / np.sqrt(cfn_optimization_histories.shape[1])"
   ]
  },
  {
   "cell_type": "code",
   "execution_count": null,
   "id": "007978ad-105f-4fdb-9920-c01eb44dacf4",
   "metadata": {},
   "outputs": [],
   "source": [
    "studies = glob.glob('path/to/studies/BRCG*.pkl')\n",
    "brcg_optimization_histories, brcg_best_trials = collect_optimization_histories_by_model(studies, model_name='BRCG')\n",
    "normalized_brcg_optimization_histories = brcg_optimization_histories/brn_optimization_histories.iloc[0, :]\n",
    "brcg_optimization_histories_mean = normalized_brcg_optimization_histories.mean(axis=1)\n",
    "brcg_optimization_histories_std = normalized_brcg_optimization_histories.std(axis=1)\n",
    "brcg_optimization_histories_ci = 1.96 * brcg_optimization_histories_std / np.sqrt(brcg_optimization_histories.shape[1])"
   ]
  },
  {
   "cell_type": "code",
   "execution_count": null,
   "id": "912c941f-8a26-422f-9b83-ac20c46dbcda",
   "metadata": {},
   "outputs": [],
   "source": [
    "studies = glob.glob('path/to/studies/Difflogic*.pkl')\n",
    "dif_optimization_histories, dif_best_trials = collect_optimization_histories_by_model(studies, model_name='DIF')\n",
    "normalized_dif_optimization_histories = dif_optimization_histories/brn_optimization_histories.iloc[0, :]\n",
    "dif_optimization_histories_mean = normalized_dif_optimization_histories.mean(axis=1)\n",
    "dif_optimization_histories_std = normalized_dif_optimization_histories.std(axis=1)\n",
    "dif_optimization_histories_ci = 1.96 * dif_optimization_histories_std / np.sqrt(dif_optimization_histories.shape[1])"
   ]
  },
  {
   "cell_type": "code",
   "execution_count": null,
   "id": "fbb203bd-389a-4ad5-8c34-6c4832ad59eb",
   "metadata": {},
   "outputs": [],
   "source": [
    "#some example data\n",
    "x = np.arange(0, 400)\n",
    "y = brn_optimization_histories_mean.rolling(5).mean()\n",
    "y1 = rf_optimization_histories_mean.rolling(5).mean()\n",
    "y2 = gbt_optimization_histories_mean.rolling(5).mean()\n",
    "y3 = xgb_optimization_histories_mean.rolling(5).mean()\n",
    "y4 = mlp_optimization_histories_mean.rolling(5).mean()\n",
    "y5 = ftt_optimization_histories_mean.rolling(5).mean()\n",
    "y6 = dan_optimization_histories_mean.rolling(5).mean()\n",
    "y7 = nam_optimization_histories_mean.rolling(5).mean()\n",
    "y8 = cfn_optimization_histories_mean.rolling(5).mean()\n",
    "y9 = brcg_optimization_histories_mean.rolling(5).mean()\n",
    "y10 = dif_optimization_histories_mean.rolling(5).mean()\n",
    "#some confidence interval\n",
    "ci = brn_optimization_histories_ci.rolling(5).mean()\n",
    "ci1 = rf_optimization_histories_ci.rolling(5).mean()\n",
    "ci2 = gbt_optimization_histories_ci.rolling(5).mean()\n",
    "ci3 = xgb_optimization_histories_ci.rolling(5).mean()\n",
    "ci4 = mlp_optimization_histories_ci.rolling(5).mean()\n",
    "ci5 = ftt_optimization_histories_ci.rolling(5).mean()\n",
    "ci6 = dan_optimization_histories_ci.rolling(5).mean()\n",
    "ci7 = nam_optimization_histories_ci.rolling(5).mean()\n",
    "ci8 = cfn_optimization_histories_ci.rolling(5).mean()\n",
    "ci9 = brcg_optimization_histories_ci.rolling(5).mean()\n",
    "ci10 = dif_optimization_histories_ci.rolling(5).mean()\n",
    "\n",
    "plt.style.use('seaborn-v0_8-paper')\n",
    "\n",
    "fig, ax = plt.subplots()\n",
    "\n",
    "ax.plot(x,y, label='BRN', linewidth=0.9)\n",
    "ax.plot(x,y1, label='RF', linewidth=0.9)\n",
    "ax.plot(x,y2, label='GBT', linewidth=0.9)\n",
    "ax.plot(x,y3, label='XGB', linewidth=0.9)\n",
    "ax.plot(x,y4, label='MLP', linewidth=0.9)\n",
    "ax.plot(x,y5, label='FTT', linewidth=0.9)\n",
    "ax.plot(x,y6, label='DAN', linewidth=0.9)\n",
    "ax.plot(x,y7, label='NAM', linewidth=0.9)\n",
    "ax.plot(x,y8, label='CFN', linewidth=0.9)\n",
    "ax.plot(x,y9, label='BRCG', linewidth=0.9)\n",
    "ax.plot(x,y10, label='DIF', linewidth=0.9)\n",
    "\n",
    "ax.fill_between(x, (y-ci), (y+ci), alpha=.1)\n",
    "ax.fill_between(x, (y1-ci1), (y1+ci1), alpha=.1)\n",
    "ax.fill_between(x, (y2-ci2), (y2+ci2), alpha=.1)\n",
    "ax.fill_between(x, (y3-ci3), (y3+ci3), alpha=.1)\n",
    "ax.fill_between(x, (y4-ci4), (y4+ci4), alpha=.1)\n",
    "ax.fill_between(x, (y5-ci5), (y5+ci5), alpha=.1)\n",
    "ax.fill_between(x, (y6-ci6), (y6+ci6), alpha=.1)\n",
    "ax.fill_between(x, (y7-ci7), (y7+ci7), alpha=.1)\n",
    "ax.fill_between(x, (y8-ci8), (y8+ci8), alpha=.1)\n",
    "ax.fill_between(x, (y9-ci9), (y9+ci9), alpha=.1)\n",
    "ax.fill_between(x, (y10-ci10), (y10+ci10), alpha=.1)\n",
    "\n",
    "# BRN MAX\n",
    "\n",
    "# ymax = max(y)\n",
    "# xpos = np.argmax(y)\n",
    "# xmax = x[xpos]\n",
    "# ax.annotate('BRN Max', xy=(xmax, ymax-0.001), xytext=(xmax, ymax-0.1),\n",
    "#             arrowprops=dict(facecolor='black', headwidth=5, width=1, headlength=4),)\n",
    "\n",
    "brn_avg_max = np.ceil(brn_best_trials.mean(axis=1).values[0]).astype('int')\n",
    "ax.axvline(brn_avg_max, color='C0', linewidth=0.9)\n",
    "\n",
    "\n",
    "# # RF MAX\n",
    "# ymax = max(y1)\n",
    "# xpos = np.argmax(y1)\n",
    "# xmax = x[xpos]\n",
    "# ax.annotate('RF Max', xy=(xmax, ymax), xytext=(xmax, ymax+0.05),\n",
    "#             arrowprops=dict(facecolor='black', headwidth=5, width=1, headlength=4),)\n",
    "\n",
    "rf_avg_max = np.ceil(rf_best_trials.mean(axis=1).values[0]).astype('int')\n",
    "print(rf_avg_max)\n",
    "ax.axvline(rf_avg_max, color='C1', linewidth=1)\n",
    "\n",
    "# # GBT MAX\n",
    "# ymax = max(y2)\n",
    "# xpos = np.argmax(y2)\n",
    "# xmax = x[xpos]\n",
    "# ax.annotate('GBT Max', xy=(xmax, ymax), xytext=(xmax, ymax+0.05),\n",
    "#             arrowprops=dict(facecolor='black', headwidth=5, width=1, headlength=4),)\n",
    "\n",
    "gbt_avg_max = np.ceil(gbt_best_trials.mean(axis=1).values[0]).astype('int')\n",
    "print(gbt_avg_max)\n",
    "ax.axvline(gbt_avg_max, color='C2', linewidth=0.9)\n",
    "\n",
    "# # XGB MAX\n",
    "# ymax = max(y3)\n",
    "# xpos = np.argmax(y3)\n",
    "# xmax = x[xpos]\n",
    "# ax.annotate('XGB Max', xy=(xmax, ymax), xytext=(xmax, ymax+0.05),\n",
    "#             arrowprops=dict(facecolor='black', headwidth=5, width=1, headlength=4),)\n",
    "\n",
    "xgb_avg_max = np.ceil(xgb_best_trials.mean(axis=1).values[0]).astype('int')\n",
    "ax.axvline(xgb_avg_max, color='C3', linewidth=0.9)\n",
    "\n",
    "# # MLP MAX\n",
    "# ymax = max(y3)\n",
    "# xpos = np.argmax(y3)\n",
    "# xmax = x[xpos]\n",
    "# ax.annotate('XGB Max', xy=(xmax, ymax), xytext=(xmax, ymax+0.05),\n",
    "#             arrowprops=dict(facecolor='black', headwidth=5, width=1, headlength=4),)\n",
    "\n",
    "mlp_avg_max = np.ceil(mlp_best_trials.mean(axis=1).values[0]).astype('int')\n",
    "ax.axvline(mlp_avg_max, color='C4', linewidth=0.9)\n",
    "\n",
    "# # FTT MAX\n",
    "# ymax = max(y3)\n",
    "# xpos = np.argmax(y3)\n",
    "# xmax = x[xpos]\n",
    "# ax.annotate('XGB Max', xy=(xmax, ymax), xytext=(xmax, ymax+0.05),\n",
    "#             arrowprops=dict(facecolor='black', headwidth=5, width=1, headlength=4),)\n",
    "\n",
    "ftt_avg_max = np.ceil(ftt_best_trials.mean(axis=1).values[0]).astype('int')\n",
    "ax.axvline(ftt_avg_max, color='C5', linewidth=0.9)\n",
    "\n",
    "dan_avg_max = np.ceil(dan_best_trials.mean(axis=1).values[0]).astype('int')\n",
    "ax.axvline(dan_avg_max, color='C6', linewidth=0.9)\n",
    "\n",
    "nam_avg_max = np.ceil(nam_best_trials.mean(axis=1).values[0]).astype('int')\n",
    "ax.axvline(nam_avg_max, color='C7', linewidth=0.9)\n",
    "\n",
    "cfn_avg_max = np.ceil(cfn_best_trials.mean(axis=1).values[0]).astype('int')\n",
    "ax.axvline(cfn_avg_max, color='C8', linewidth=0.9)\n",
    "\n",
    "brcg_avg_max = np.ceil(brcg_best_trials.mean(axis=1).values[0]).astype('int')\n",
    "ax.axvline(brcg_avg_max, color='C9', linewidth=0.9)\n",
    "\n",
    "dif_avg_max = np.ceil(dif_best_trials.mean(axis=1).values[0]).astype('int')\n",
    "ax.axvline(dif_avg_max, color='C10', linewidth=0.9)\n",
    "\n",
    "ax.legend(loc='lower right')\n",
    "plt.title(\"Optimization Histories w/ 95% Confidence Interval\")\n",
    "plt.xlabel(\"Trial Number\")\n",
    "plt.ylabel(\"Average Normalized Validation AUC\")\n",
    "plt.savefig(\"path/to/plots/optimization_history.png\")"
   ]
  },
  {
   "cell_type": "code",
   "execution_count": null,
   "id": "d9744365-c9eb-47dc-82ca-55a3be6505c5",
   "metadata": {},
   "outputs": [],
   "source": [
    "print plt.style.available"
   ]
  },
  {
   "cell_type": "markdown",
   "id": "df25bba2-c618-47b6-a6ed-97c34bb46219",
   "metadata": {},
   "source": [
    "# Results Box Plot"
   ]
  },
  {
   "cell_type": "code",
   "execution_count": null,
   "id": "0ca583b8-e0b1-4470-b958-215d1b8f8aa6",
   "metadata": {},
   "outputs": [],
   "source": [
    "df = pd.read_csv('path/to/results/results_reproducible_raw_data.csv')"
   ]
  },
  {
   "cell_type": "code",
   "execution_count": null,
   "id": "f33ebc6f-8c3d-44c1-bc8b-a899ca2360cc",
   "metadata": {},
   "outputs": [],
   "source": [
    "df_box = pd.DataFrame(\n",
    "    {\n",
    "        'BRN': df[['BRN NODA 1', 'BRN NODA 2', 'BRN NODA 3', 'BRN NODA 4', 'BRN NODA 5']].mean(axis=1),\n",
    "        'BRCG': df[['BRCG 1', 'BRCG 2', 'BRCG 3', 'BRCG 4', 'BRCG 5']].mean(axis=1),\n",
    "        'DIF': df[['Dif 1', 'Dif 2', 'Dif 3', 'Dif 4', 'Dif 5']].mean(axis=1),\n",
    "        'NAM': df[['NAM 1', 'NAM 2', 'NAM 3', 'NAM 4', 'NAM 5']].mean(axis=1),\n",
    "        'CFN': df[['CoFR 1', 'CoFR 2', 'CoFR 3', 'CoFR 4', 'CoFR 5']].mean(axis=1),\n",
    "        'FTT': df[['FFT 1', 'FFT 2', 'FFT 3', 'FFT 4', 'FFT 5']].mean(axis=1),\n",
    "        'DAN': df[['DANet 1', 'DANet 2', 'DANet 3', 'DANet 4', 'DANet 5']].mean(axis=1),\n",
    "        'MLP': df[['MLP NODA 1', 'MLP NODA 2', 'MLP NODA 3', 'MLP NODA 4', 'MLP NODA 5']].mean(axis=1),\n",
    "        'RF': df[['RF 1', 'RF 2', 'RF 3', 'RF 4', 'RF 5']].mean(axis=1),\n",
    "        'XGB': df[['XGB 1', 'XGB 2', 'XGB 3', 'XGB 4', 'XGB 5']].mean(axis=1),\n",
    "        'GBT': df[['GBT 1', 'GBT 2', 'GBT 3', 'GBT 4', 'GBT 5']].mean(axis=1),\n",
    "    }\n",
    ")"
   ]
  },
  {
   "cell_type": "code",
   "execution_count": null,
   "id": "8e1d7285-649f-4a49-ad6a-61e9fa44a205",
   "metadata": {},
   "outputs": [],
   "source": [
    "plt.style.use('seaborn-v0_8-paper')\n",
    "fig, ax = plt.subplots()\n",
    "ax = df_box.plot.box(ax=ax, title=\"Test AUC Distributions\", ylabel=\"AUC\")\n",
    "plt.savefig(\"path/to/plots/auc_distributions.png\")"
   ]
  },
  {
   "cell_type": "code",
   "execution_count": null,
   "id": "452a68a1-70cd-43fe-a897-8b3e4763eab6",
   "metadata": {},
   "outputs": [],
   "source": [
    "df_confidence = pd.DataFrame(\n",
    "    {\n",
    "        'BRN': df[['BRN NODA 1', 'BRN NODA 2', 'BRN NODA 3', 'BRN NODA 4', 'BRN NODA 5']].mean(axis=1),\n",
    "        'BRCG': df[['BRCG 1', 'BRCG 2', 'BRCG 3', 'BRCG 4', 'BRCG 5']].mean(axis=1),\n",
    "        'DIF': df[['Dif 1', 'Dif 2', 'Dif 3', 'Dif 4', 'Dif 5']].mean(axis=1),\n",
    "        'NAM': df[['NAM 1', 'NAM 2', 'NAM 3', 'NAM 4', 'NAM 5']].mean(axis=1),\n",
    "        'CFN': df[['CoFR 1', 'CoFR 2', 'CoFR 3', 'CoFR 4', 'CoFR 5']].mean(axis=1),\n",
    "        'FTT': df[['FFT 1', 'FFT 2', 'FFT 3', 'FFT 4', 'FFT 5']].mean(axis=1),\n",
    "        'DAN': df[['DANet 1', 'DANet 2', 'DANet 3', 'DANet 4', 'DANet 5']].mean(axis=1),\n",
    "        'MLP': df[['MLP NODA 1', 'MLP NODA 2', 'MLP NODA 3', 'MLP NODA 4', 'MLP NODA 5']].mean(axis=1),\n",
    "        'RF': df[['RF 1', 'RF 2', 'RF 3', 'RF 4', 'RF 5']].mean(axis=1),\n",
    "        'XGB': df[['XGB 1', 'XGB 2', 'XGB 3', 'XGB 4', 'XGB 5']].mean(axis=1),\n",
    "        'GBT': df[['GBT 1', 'GBT 2', 'GBT 3', 'GBT 4', 'GBT 5']].mean(axis=1),\n",
    "        'BRN_CI': df[['BRN NODA 1', 'BRN NODA 2', 'BRN NODA 3', 'BRN NODA 4', 'BRN NODA 5']].std(axis=1) * 1.96 / np.sqrt(5),\n",
    "        'BRCG_CI': df[['BRCG 1', 'BRCG 2', 'BRCG 3', 'BRCG 4', 'BRCG 5']].std(axis=1) * 1.96 / np.sqrt(5),\n",
    "        'DIF_CI': df[['Dif 1', 'Dif 2', 'Dif 3', 'Dif 4', 'Dif 5']].std(axis=1) * 1.96 / np.sqrt(5),\n",
    "        'NAM_CI': df[['NAM 1', 'NAM 2', 'NAM 3', 'NAM 4', 'NAM 5']].std(axis=1) * 1.96 / np.sqrt(5),\n",
    "        'CFN_CI': df[['CoFR 1', 'CoFR 2', 'CoFR 3', 'CoFR 4', 'CoFR 5']].std(axis=1) * 1.96 / np.sqrt(5),\n",
    "        'FTT_CI': df[['FFT 1', 'FFT 2', 'FFT 3', 'FFT 4', 'FFT 5']].std(axis=1) * 1.96 / np.sqrt(5),\n",
    "        'DAN_CI': df[['DANet 1', 'DANet 2', 'DANet 3', 'DANet 4', 'DANet 5']].std(axis=1) * 1.96 / np.sqrt(5),\n",
    "        'MLP_CI': df[['MLP NODA 1', 'MLP NODA 2', 'MLP NODA 3', 'MLP NODA 4', 'MLP NODA 5']].std(axis=1) * 1.96 / np.sqrt(5),\n",
    "        'RF_CI': df[['RF 1', 'RF 2', 'RF 3', 'RF 4', 'RF 5']].std(axis=1) * 1.96 / np.sqrt(5),\n",
    "        'XGB_CI': df[['XGB 1', 'XGB 2', 'XGB 3', 'XGB 4', 'XGB 5']].std(axis=1) * 1.96 / np.sqrt(5),\n",
    "        'GBT_CI': df[['GBT 1', 'GBT 2', 'GBT 3', 'GBT 4', 'GBT 5']].std(axis=1) * 1.96 / np.sqrt(5),\n",
    "    }\n",
    ")\n",
    "df_confidence = df_confidence.mean()\n",
    "\n",
    "df_confidence = pd.DataFrame({\n",
    "    'Model': df_confidence.iloc[:11].index,\n",
    "    'Mean Test AUC': df_confidence.iloc[:11].values, \n",
    "    'ci': df_confidence.iloc[11:].values})\n"
   ]
  },
  {
   "cell_type": "code",
   "execution_count": null,
   "id": "643ac9cc-3207-4b44-a75d-3633d50f5127",
   "metadata": {},
   "outputs": [],
   "source": [
    "df_confidence"
   ]
  },
  {
   "cell_type": "code",
   "execution_count": null,
   "id": "d0384f35-1fb4-4772-a535-04b3f2025bbe",
   "metadata": {},
   "outputs": [],
   "source": [
    "ax = df_confidence.plot(\n",
    "    kind='scatter', \n",
    "    x='Model', \n",
    "    y='Mean Test AUC', \n",
    "    # yerr=dict(yerr='ci', ecolor='gray', lw=2, capsize=5, capthick=2), xlabel='', \n",
    "    grid=True, \n",
    "    yticks=np.arange(0.6, 0.90, 0.025),\n",
    "    title=\"Mean Test AUC with 95% Confidence Intervals\",\n",
    "    s=40,\n",
    "    xlabel=\"\"\n",
    ")\n",
    "error_kwargs = dict(ecolor='black', lw=1, capsize=3, capthick=1, fmt='o')\n",
    "plt.errorbar(x=df_confidence['Model'], y=df_confidence['Mean Test AUC'], yerr=df_confidence['ci'], **error_kwargs)\n",
    "plt.savefig(\"path/to/plots/mean_auc_confidence.png\")"
   ]
  },
  {
   "cell_type": "markdown",
   "id": "eb75c576-b586-4a2f-9240-3f914a668580",
   "metadata": {},
   "source": [
    "# Statistical Test"
   ]
  },
  {
   "cell_type": "code",
   "execution_count": null,
   "id": "efa3165e-66dd-41c3-b048-50c743ea9a2b",
   "metadata": {},
   "outputs": [],
   "source": [
    "from scipy.stats import wilcoxon\n",
    "import itertools"
   ]
  },
  {
   "cell_type": "code",
   "execution_count": null,
   "id": "aecc059e-7105-471e-b989-c6a861e3e316",
   "metadata": {},
   "outputs": [],
   "source": [
    "df = pd.read_csv('path/to/results/results_reproducible_raw_data.csv')"
   ]
  },
  {
   "cell_type": "markdown",
   "id": "f3d56129-270b-42e5-abb9-5019168ac19d",
   "metadata": {},
   "source": [
    "### By Dataset"
   ]
  },
  {
   "cell_type": "code",
   "execution_count": null,
   "id": "801d7018-4fa6-43bc-bcf9-db63a82bbffc",
   "metadata": {},
   "outputs": [],
   "source": [
    "a = set([x[:-2] for x in df.columns])\n",
    "b = set([x[:-2] for x in df.columns])\n",
    "\n",
    "algo_types = set([x[:-2] for x in df.columns])\n",
    "\n",
    "dataset = []\n",
    "alg1 = []\n",
    "alg2 = []\n",
    "pval = []\n",
    "for i in range(22):\n",
    "    df_stats_ds = df.iloc[i, :]\n",
    "    for r in itertools.product(a, b):\n",
    "        dataset += [i]\n",
    "        alg1 += [r[0]]\n",
    "        alg2 += [r[1]]\n",
    "        if r[0] != r[1]:\n",
    "            df_stats_r0 = df_stats_ds[[f\"{r[0]} {j}\" for j in range(1, 6)]].T.values\n",
    "            df_stats_r1 = df_stats_ds[[f\"{r[1]} {j}\" for j in range(1, 6)]].T.values\n",
    "            d = np.around(df_stats_r0 - df_stats_r1, decimals=6)\n",
    "            try:\n",
    "                # res = wilcoxon(d, alternative='greater')\n",
    "                res = mannwhitneyu(df_stats_r0, df_stats_r1, alternative=\"greater\")\n",
    "            except:\n",
    "                print(d, r)\n",
    "            pval += [res.pvalue]\n",
    "        else:\n",
    "            pval += [np.nan]\n",
    "    \n",
    "results = pd.DataFrame({'dataset': dataset, 'alg1': alg1, 'alg2': alg2, 'pvalue_greater': pval})\n",
    "results['significant'] = results['pvalue_greater'] <= 0.05\n",
    "results = results[['dataset', 'alg1', 'alg2', 'significant']].set_index(['dataset', 'alg1', 'alg2']).unstack()['significant']"
   ]
  },
  {
   "cell_type": "markdown",
   "id": "d673abdd-0e70-46a4-bf72-47f3a97385ae",
   "metadata": {},
   "source": [
    "#### Produce Win/Loss/Tie"
   ]
  },
  {
   "cell_type": "code",
   "execution_count": null,
   "id": "513e8a50-328c-442d-88b8-7ef8b2009b7f",
   "metadata": {},
   "outputs": [],
   "source": [
    "for col in results.columns:\n",
    "    compare_algo = col\n",
    "    print(compare_algo, results[compare_algo].loc[:, 'BRN NODA'].sum(), \"/\", \n",
    "          results['BRN NODA'].loc[:, compare_algo].sum(), \"/\",\n",
    "          22 - results[compare_algo].loc[:, 'BRN NODA'].sum() - results['BRN NODA'].loc[:, compare_algo].sum()\n",
    "    )"
   ]
  },
  {
   "cell_type": "markdown",
   "id": "2a209c44-87d5-4608-94d6-6382d6f8416d",
   "metadata": {},
   "source": [
    "#### Produce Statisticall Significant Best per Dataset"
   ]
  },
  {
   "cell_type": "code",
   "execution_count": null,
   "id": "6508e3b6-e26e-4f74-a358-adedbb0d1584",
   "metadata": {},
   "outputs": [],
   "source": [
    "results['beats_all_algos'] = results.apply(lambda x: sum(x) == 10, axis=1)"
   ]
  },
  {
   "cell_type": "code",
   "execution_count": null,
   "id": "4e3b4e87-cbb1-4590-a3ca-78260339408e",
   "metadata": {},
   "outputs": [],
   "source": [
    "results[results['beats_all_algos']]"
   ]
  },
  {
   "cell_type": "markdown",
   "id": "b8f7a0b8-eaa2-4103-b8e5-7e5a291c398c",
   "metadata": {},
   "source": [
    "### Overall Benchmark Method 2"
   ]
  },
  {
   "cell_type": "code",
   "execution_count": null,
   "id": "ecd8db07-ae4a-4483-9400-d6887656f1c1",
   "metadata": {},
   "outputs": [],
   "source": [
    "df_stats_mean = pd.DataFrame(\n",
    "    {\n",
    "        'BRN': df[['BRN NODA 1', 'BRN NODA 2', 'BRN NODA 3', 'BRN NODA 4', 'BRN NODA 5']].mean(axis=1),\n",
    "        'BRCG': df[['BRCG 1', 'BRCG 2', 'BRCG 3', 'BRCG 4', 'BRCG 5']].mean(axis=1),\n",
    "        'DIF': df[['Dif 1', 'Dif 2', 'Dif 3', 'Dif 4', 'Dif 5']].mean(axis=1),\n",
    "        'NAM': df[['NAM 1', 'NAM 2', 'NAM 3', 'NAM 4', 'NAM 5']].mean(axis=1),\n",
    "        'CFN': df[['CoFR 1', 'CoFR 2', 'CoFR 3', 'CoFR 4', 'CoFR 5']].mean(axis=1),\n",
    "        'FTT': df[['FFT 1', 'FFT 2', 'FFT 3', 'FFT 4', 'FFT 5']].mean(axis=1),\n",
    "        'DAN': df[['DANet 1', 'DANet 2', 'DANet 3', 'DANet 4', 'DANet 5']].mean(axis=1),\n",
    "        'MLP': df[['MLP NODA 1', 'MLP NODA 2', 'MLP NODA 3', 'MLP NODA 4', 'MLP NODA 5']].mean(axis=1),\n",
    "        'RF': df[['RF 1', 'RF 2', 'RF 3', 'RF 4', 'RF 5']].mean(axis=1),\n",
    "        'XGB': df[['XGB 1', 'XGB 2', 'XGB 3', 'XGB 4', 'XGB 5']].mean(axis=1),\n",
    "        'GBT': df[['GBT 1', 'GBT 2', 'GBT 3', 'GBT 4', 'GBT 5']].mean(axis=1),\n",
    "    }\n",
    ")"
   ]
  },
  {
   "cell_type": "code",
   "execution_count": null,
   "id": "f8b41e15-1451-4db9-acdd-7c1f1453a4fa",
   "metadata": {},
   "outputs": [],
   "source": [
    "a = ['BRN', 'BRCG', 'DIF', 'NAM', 'CFN', 'FTT', 'DAN', 'MLP', 'RF', 'XGB', 'GBT']\n",
    "b = ['BRN', 'BRCG', 'DIF', 'NAM', 'CFN', 'FTT', 'DAN', 'MLP', 'RF', 'XGB', 'GBT']\n",
    "\n",
    "alg1 = []\n",
    "alg2 = []\n",
    "pval = []\n",
    "for r in itertools.product(a, b):\n",
    "    alg1 += [r[0]]\n",
    "    alg2 += [r[1]]\n",
    "    if r[0] != r[1]:\n",
    "        d = np.around(df_stats_mean[r[0]] - df_stats_mean[r[1]], decimals=6)\n",
    "        try:\n",
    "            # res = wilcoxon(d, alternative='greater')\n",
    "            res = mannwhitneyu(df_stats_mean[r[0]], df_stats_mean[r[1]])\n",
    "        except:\n",
    "            print(d, r)\n",
    "        pval += [res.pvalue]\n",
    "    else:\n",
    "        pval += [np.nan]\n",
    "\n",
    "results = pd.DataFrame({'alg1': alg1, 'alg2': alg2, 'pvalue_greater': pval})\n",
    "results['alg1_mean_is_greater_than_algo2_significant'] = results['pvalue_greater'] <= 0.05\n",
    "results[['alg1', 'alg2', 'alg1_mean_is_greater_than_algo2_significant']].set_index(['alg1', 'alg2']).unstack()"
   ]
  },
  {
   "cell_type": "markdown",
   "id": "ff278196-21c3-41dd-9958-761e8c24f79b",
   "metadata": {},
   "source": [
    "#### Produce overall P-Values vs BRN"
   ]
  },
  {
   "cell_type": "code",
   "execution_count": null,
   "id": "7d7bf54a-16a8-4ecd-b2ad-3d4bb5a6b45c",
   "metadata": {},
   "outputs": [],
   "source": [
    "a = ['BRN', 'BRCG', 'DIF', 'NAM', 'CFN', 'FTT', 'DAN', 'MLP', 'RF', 'XGB', 'GBT']\n",
    "b = ['BRN', 'BRCG', 'DIF', 'NAM', 'CFN', 'FTT', 'DAN', 'MLP', 'RF', 'XGB', 'GBT']\n",
    "\n",
    "alg1 = []\n",
    "alg2 = []\n",
    "pval = []\n",
    "for r in itertools.product(a, b):\n",
    "    alg1 += [r[0]]\n",
    "    alg2 += [r[1]]\n",
    "    if r[0] != r[1]:\n",
    "        d = np.around(df_stats_mean[r[0]] - df_stats_mean[r[1]], decimals=6)\n",
    "        try:\n",
    "            res = mannwhitneyu(df_stats_mean[r[0]], df_stats_mean[r[1]])\n",
    "        except:\n",
    "            print(d, r)\n",
    "        pval += [res.pvalue]\n",
    "    else:\n",
    "        pval += [np.nan]\n",
    "\n",
    "results = pd.DataFrame({'alg1': alg1, 'alg2': alg2, 'pvalue_greater': pval})\n",
    "results[['alg1', 'alg2', 'pvalue_greater']].set_index(['alg1', 'alg2']).unstack().round(3)"
   ]
  },
  {
   "cell_type": "markdown",
   "id": "83c4d8dc-a7f8-49a7-80c0-737f96f5720f",
   "metadata": {},
   "source": [
    "# Explanation Evaluation"
   ]
  },
  {
   "cell_type": "code",
   "execution_count": null,
   "id": "29af4ca9-c805-4f62-8c69-fb899bc03ef3",
   "metadata": {},
   "outputs": [],
   "source": [
    "exp_eval_df = pd.read_csv('path/to/results/explanation-eval-results.csv')"
   ]
  },
  {
   "cell_type": "code",
   "execution_count": null,
   "id": "6954f29a-fac2-4c57-a2c4-607c1bfab669",
   "metadata": {},
   "outputs": [],
   "source": [
    "exp_eval_df.head()"
   ]
  }
 ],
 "metadata": {
  "kernelspec": {
   "display_name": "Python 3 (ipykernel)",
   "language": "python",
   "name": "python3"
  },
  "language_info": {
   "codemirror_mode": {
    "name": "ipython",
    "version": 3
   },
   "file_extension": ".py",
   "mimetype": "text/x-python",
   "name": "python",
   "nbconvert_exporter": "python",
   "pygments_lexer": "ipython3",
   "version": "3.9.6"
  }
 },
 "nbformat": 4,
 "nbformat_minor": 5
}
