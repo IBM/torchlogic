{
 "cells": [
  {
   "cell_type": "code",
   "execution_count": 1,
   "id": "dc1cf98b",
   "metadata": {},
   "outputs": [],
   "source": [
    "# ! pip uninstall /Path/to/the/whl/file/torchlogic-0.0.1-py3-none-any.whl -y"
   ]
  },
  {
   "cell_type": "code",
   "execution_count": 2,
   "id": "99bde8c2",
   "metadata": {},
   "outputs": [],
   "source": [
    "# ! pip install /Path/to/the/whl/file/torchlogic-0.0.1-py3-none-any.whl"
   ]
  },
  {
   "cell_type": "code",
   "execution_count": 3,
   "id": "8bd57348",
   "metadata": {},
   "outputs": [],
   "source": [
    "# ! pip install optuna"
   ]
  },
  {
   "cell_type": "code",
   "execution_count": 40,
   "id": "c3b584d3",
   "metadata": {},
   "outputs": [],
   "source": [
    "import warnings\n",
    "warnings.filterwarnings(\"ignore\", message=\"Choices for a categorical distribution should be a tuple\")\n",
    "warnings.filterwarnings(\"ignore\", message=\"To copy construct from a tensor, it is recommended\")\n",
    "warnings.filterwarnings(\"ignore\", message=\"IProgress not found\")\n",
    "\n",
    "import copy\n",
    "\n",
    "import torch\n",
    "from torch import nn\n",
    "from torch import optim\n",
    "from torch.utils.data import Dataset\n",
    "from torch.utils.data import DataLoader, SubsetRandomSampler\n",
    "\n",
    "import optuna\n",
    "import numpy as np\n",
    "import pandas as pd\n",
    "from scipy.special import softmax, expit\n",
    "\n",
    "import matplotlib.pyplot as plt\n",
    "\n",
    "from sklearn.datasets import load_breast_cancer\n",
    "from sklearn.preprocessing import MinMaxScaler\n",
    "from sklearn.model_selection import train_test_split\n",
    "from sklearn.metrics import precision_score, roc_auc_score\n",
    "from sklearn.linear_model import LogisticRegression\n",
    "from sklearn.isotonic import IsotonicRegression\n",
    "from sklearn.model_selection import RandomizedSearchCV\n",
    "from sklearn.calibration import calibration_curve, CalibrationDisplay\n",
    "\n",
    "from torchlogic.models import BanditNRNClassifier\n",
    "from torchlogic.utils.trainers import BanditNRNTrainer"
   ]
  },
  {
   "cell_type": "code",
   "execution_count": 5,
   "id": "7d057bef-e8e4-401c-9327-6744be4800ed",
   "metadata": {},
   "outputs": [],
   "source": [
    "# # If we want the logs from Bandit-RRN training\n",
    "\n",
    "# from carrot.logger import Logger\n",
    "\n",
    "# log_config = 'configs/logging.yaml'\n",
    "# log_dir = 'logs'\n",
    "# logger = Logger.get(log_config, log_dir)"
   ]
  },
  {
   "cell_type": "markdown",
   "id": "e32cc9de",
   "metadata": {},
   "source": [
    "# Load Data"
   ]
  },
  {
   "cell_type": "code",
   "execution_count": 6,
   "id": "79426bc9",
   "metadata": {},
   "outputs": [
    {
     "data": {
      "text/plain": [
       "array(['malignant', 'benign'], dtype='<U9')"
      ]
     },
     "execution_count": 6,
     "metadata": {},
     "output_type": "execute_result"
    }
   ],
   "source": [
    "data = load_breast_cancer()\n",
    "data.target_names"
   ]
  },
  {
   "cell_type": "markdown",
   "id": "a5378c6d",
   "metadata": {},
   "source": [
    "# Prepare Bandit-RRN Data"
   ]
  },
  {
   "cell_type": "markdown",
   "id": "2a00c989",
   "metadata": {},
   "source": [
    "A dataset for the Bandit-RRN algorithm in torchlogic must return a dictionary of the following form:\n",
    "\n",
    "```python\n",
    "{\n",
    "    'features': [N_FEATURES], 'target': [N_TARGETS], 'sample_idx': [1]\n",
    "}\n",
    "```\n",
    "\n",
    "- The `features` key contains a tensor of the features used for prediction.  Feature must be numeric and scaled between 0 and 1.\n",
    "\n",
    "- The `target` key must contain a tensor of the targets, with the values of 0 or 1 for each target.\n",
    "\n",
    "- The `sample_idx` key must contain a tensor of the row number in the data corresponding to that sample."
   ]
  },
  {
   "cell_type": "markdown",
   "id": "855fbe56",
   "metadata": {},
   "source": [
    "## Preprocess Data"
   ]
  },
  {
   "cell_type": "code",
   "execution_count": 7,
   "id": "9863924f",
   "metadata": {},
   "outputs": [],
   "source": [
    "mms = MinMaxScaler()\n",
    "X = mms.fit_transform(data.data)"
   ]
  },
  {
   "cell_type": "code",
   "execution_count": 8,
   "id": "63d35d23",
   "metadata": {},
   "outputs": [],
   "source": [
    "y = data.target.reshape(-1, 1)"
   ]
  },
  {
   "cell_type": "code",
   "execution_count": 9,
   "id": "51b54a5a",
   "metadata": {},
   "outputs": [],
   "source": [
    "X_train, X_test, y_train, y_test = train_test_split(X, y, test_size=0.1, random_state=42)\n",
    "X_train, X_val, y_train, y_val = train_test_split(X_train, y_train, test_size=0.22, random_state=42)"
   ]
  },
  {
   "cell_type": "markdown",
   "id": "ba908ac4",
   "metadata": {},
   "source": [
    "## Define PyTorch Dataset"
   ]
  },
  {
   "cell_type": "code",
   "execution_count": 10,
   "id": "51d41c0b",
   "metadata": {},
   "outputs": [],
   "source": [
    "class BanditNRNDataset(Dataset):\n",
    "    def __init__(\n",
    "            self,\n",
    "            X: np.array,\n",
    "            y: np.array\n",
    "    ):\n",
    "        \"\"\"\n",
    "        Dataset suitable for BanditRRN model from torchlogic\n",
    "\n",
    "        Args:\n",
    "            X (np.array): features data scaled to [0, 1]\n",
    "            y (np.array): target data of classes 0, 1\n",
    "        \"\"\"\n",
    "        super(BanditNRNDataset, self).__init__()\n",
    "        self.X = X\n",
    "        self.y = y\n",
    "        self.sample_idx = np.arange(X.shape[0])  # index of samples\n",
    "\n",
    "    def __len__(self):\n",
    "        return self.X.shape[0]\n",
    "\n",
    "    def __getitem__(self, idx):\n",
    "        features = torch.from_numpy(self.X[idx, :]).float()\n",
    "        target = torch.from_numpy(self.y[idx, :])\n",
    "        return {'features': features, 'target': target, 'sample_idx': idx}"
   ]
  },
  {
   "cell_type": "markdown",
   "id": "dd5651ce",
   "metadata": {},
   "source": [
    "## Instantiate Datasets and Data Loaders"
   ]
  },
  {
   "cell_type": "code",
   "execution_count": 11,
   "id": "b6a6c55e",
   "metadata": {},
   "outputs": [],
   "source": [
    "train_dataset = BanditNRNDataset(X=X_train, y=y_train)\n",
    "val_dataset = BanditNRNDataset(X=X_val, y=y_val)\n",
    "test_dataset = BanditNRNDataset(X=X_test, y=y_test)"
   ]
  },
  {
   "cell_type": "code",
   "execution_count": 12,
   "id": "8b8c779a",
   "metadata": {},
   "outputs": [],
   "source": [
    "g = torch.Generator()\n",
    "g.manual_seed(0)\n",
    "\n",
    "def create_holdout_samplers(train_dataset, pct=0.2):\n",
    "    train_size = len(train_dataset)\n",
    "    indices = list(range(train_size))\n",
    "    np.random.seed(0)\n",
    "    np.random.shuffle(indices)\n",
    "    \n",
    "    train_holdout_split_index = int(np.floor(pct * train_size))\n",
    "    train_idx, train_holdout_idx = indices[train_holdout_split_index:], indices[:train_holdout_split_index]\n",
    "    \n",
    "    train_sampler = SubsetRandomSampler(train_idx)\n",
    "    train_holdout_sampler = SubsetRandomSampler(train_holdout_idx)\n",
    "    \n",
    "    return train_sampler, train_holdout_sampler\n",
    "\n",
    "train_sampler, train_holdout_sampler = create_holdout_samplers(train_dataset)\n",
    "\n",
    "train_dl = DataLoader(\n",
    "    train_dataset, batch_size=32, generator=g, sampler=train_sampler,\n",
    "    pin_memory=False, persistent_workers=False, num_workers=0  # very important to optimize these settings in production\n",
    ")\n",
    "train_holdout_dl = DataLoader(\n",
    "    train_dataset, batch_size=32, generator=g, sampler=train_holdout_sampler,\n",
    "    pin_memory=False, persistent_workers=False, num_workers=0  # very important to optimize these settings in production\n",
    ")\n",
    "val_dl = DataLoader(\n",
    "    val_dataset, batch_size=32, generator=g, \n",
    "    pin_memory=False, persistent_workers=False, num_workers=0  # very important to optimize these settings in production\n",
    ")\n",
    "test_dl = DataLoader(\n",
    "    test_dataset, batch_size=32, generator=g, \n",
    "    pin_memory=False, persistent_workers=False, num_workers=0  # very important to optimize these settings in production\n",
    ")"
   ]
  },
  {
   "cell_type": "markdown",
   "id": "170ca75e",
   "metadata": {},
   "source": [
    "# Train Bandit-RRN Model"
   ]
  },
  {
   "cell_type": "markdown",
   "id": "1f4c15b9-a9e0-4276-8e9d-030e5eb3d32a",
   "metadata": {},
   "source": [
    "## Prepare the Feature Names"
   ]
  },
  {
   "cell_type": "markdown",
   "id": "1fe726ef-8d07-4147-baa6-aace2a8cc1e6",
   "metadata": {},
   "source": [
    "To aid in the explantions of our model, we can set our feature names to natural language that represents the values of the feature.\n",
    "In the current data, each feature represents a measurement in centimeters and is scaled between 0 to 1, so represents a percentile.\n",
    "We rename each feature to describe this represenation of our data, which is then used when extracting explanations from the model."
   ]
  },
  {
   "cell_type": "code",
   "execution_count": 13,
   "id": "1d441867-41bf-4825-9a70-4c30e8f06276",
   "metadata": {},
   "outputs": [
    {
     "data": {
      "text/plain": [
       "array(['mean radius', 'mean texture', 'mean perimeter', 'mean area',\n",
       "       'mean smoothness', 'mean compactness', 'mean concavity',\n",
       "       'mean concave points', 'mean symmetry', 'mean fractal dimension',\n",
       "       'radius error', 'texture error', 'perimeter error', 'area error',\n",
       "       'smoothness error', 'compactness error', 'concavity error',\n",
       "       'concave points error', 'symmetry error',\n",
       "       'fractal dimension error', 'worst radius', 'worst texture',\n",
       "       'worst perimeter', 'worst area', 'worst smoothness',\n",
       "       'worst compactness', 'worst concavity', 'worst concave points',\n",
       "       'worst symmetry', 'worst fractal dimension'], dtype='<U23')"
      ]
     },
     "execution_count": 13,
     "metadata": {},
     "output_type": "execute_result"
    }
   ],
   "source": [
    "data.feature_names"
   ]
  },
  {
   "cell_type": "code",
   "execution_count": 14,
   "id": "e8382f72-174e-43f3-a2e3-375fe78dcf5f",
   "metadata": {},
   "outputs": [],
   "source": [
    "data.feature_names = [f\"the {x} was\" for x in data.feature_names]"
   ]
  },
  {
   "cell_type": "code",
   "execution_count": 15,
   "id": "2a29441d-b77b-4491-ae59-4845efd3940f",
   "metadata": {},
   "outputs": [
    {
     "data": {
      "text/plain": [
       "['the mean radius was',\n",
       " 'the mean texture was',\n",
       " 'the mean perimeter was',\n",
       " 'the mean area was',\n",
       " 'the mean smoothness was']"
      ]
     },
     "execution_count": 15,
     "metadata": {},
     "output_type": "execute_result"
    }
   ],
   "source": [
    "data.feature_names[:5]"
   ]
  },
  {
   "cell_type": "markdown",
   "id": "2e623836",
   "metadata": {},
   "source": [
    "## Tune Hyper-parameters"
   ]
  },
  {
   "cell_type": "code",
   "execution_count": 16,
   "id": "b8425fa6",
   "metadata": {},
   "outputs": [],
   "source": [
    "torch.random.manual_seed(0)\n",
    "np.random.seed(0)\n",
    "\n",
    "class TuneParameters:\n",
    "    \n",
    "    def __init__(self, n_trials=10):\n",
    "        self.best_model = None\n",
    "        self.best_rn_val_performance = 0.0\n",
    "        self.n_trials = n_trials\n",
    "\n",
    "    def _objective(self, trial):\n",
    "\n",
    "        ########################################################################################################################\n",
    "        # NOTE: These hyper-parameter settings are specific to the breast cancer dataset.  For information on generally useful\n",
    "        # ranges of hyper-parameters and their descriptions see our documentation: \n",
    "        ########################################################################################################################\n",
    "\n",
    "        # Set Parameters\n",
    "        \n",
    "        ## Reinforced Reasoning Network Parameters\n",
    "        layer_sizes = trial.suggest_categorical('layer_sizes', [(2, ), (3, ), (5, ), (10, ), \n",
    "                                                                (2, 2), (3, 3), (5, 5), (10, 10)])\n",
    "        n_selected_features_input = trial.suggest_int('n_selected_features_input', low=2, high=3)\n",
    "        n_selected_features_internal = trial.suggest_int('n_selected_features_internal', low=2, high=min(3, min(layer_sizes)))\n",
    "        n_selected_features_output = trial.suggest_int('n_selected_features_output', low=2, high=min(3, layer_sizes[-1]))\n",
    "        perform_prune_plateau_count = trial.suggest_int('perform_prune_plateau_count', low=1, high=1)\n",
    "        perform_prune_quantile = trial.suggest_float('perform_prune_quantile', low=0.1, high=0.9)\n",
    "        increase_prune_plateau_count = trial.suggest_int('increase_prune_plateau_count', low=0, high=20)\n",
    "        increase_prune_plateau_count_plateau_count = trial.suggest_int('increase_prune_plateau_count_plateau_count', low=10, high=30)\n",
    "        ucb_scale = trial.suggest_float('ucb_scale', low=1.0, high=2.0)\n",
    "        normal_form = trial.suggest_categorical('normal_form', ['dnf', 'cnf'])\n",
    "        prune_strategy = trial.suggest_categorical('prune_strategy', ['logic'])\n",
    "        delta = trial.suggest_float('delta', low=2.0, high=2.0)\n",
    "        bootstrap = trial.suggest_categorical('bootstrap', [True, False])\n",
    "        swa = trial.suggest_categorical('swa', [True, False])\n",
    "        add_negations = trial.suggest_categorical('add_negations', [True, False])\n",
    "        weight_init = trial.suggest_float('weight_init', low=0.01, high=1.0)\n",
    "\n",
    "        ## Optimizer Parameters\n",
    "\n",
    "        ### Learning Rate\n",
    "        learning_rate = trial.suggest_float('learning_rate', low=0.01, high=0.2)\n",
    "\n",
    "        ### L1 Regularization\n",
    "        use_l1 = trial.suggest_categorical('use_l1', [True, False])\n",
    "        if use_l1:\n",
    "            l1_lambda = trial.suggest_float('l1_lambda', low=0.00001, high=0.1)\n",
    "        else:\n",
    "            l1_lambda = 0\n",
    "\n",
    "        ### Weight Decay Regularization\n",
    "        use_weight_decay = trial.suggest_categorical('use_weight_decay', [True, False])\n",
    "        if use_weight_decay:\n",
    "            weight_decay = trial.suggest_float('weight_decay', low=0.00001, high=0.1)\n",
    "        else:\n",
    "            weight_decay = 0\n",
    "\n",
    "        ### Lookahead Optimization\n",
    "        use_lookahead = trial.suggest_categorical('use_lookahead', [True, False])\n",
    "        if use_lookahead:\n",
    "            lookahead_steps = trial.suggest_int('lookahead_steps', low=5, high=10, step=1)\n",
    "            lookahead_steps_size = trial.suggest_float('lookahead_steps_size', low=0.5, high=0.8)\n",
    "        else:\n",
    "            lookahead_steps = 0\n",
    "            lookahead_steps_size = 0\n",
    "\n",
    "        ### Data Augmentation\n",
    "        # augment = trial.suggest_categorical('augment', ['CM', 'MU', 'AT', None])\n",
    "        augment = trial.suggest_categorical('augment', ['CM', 'MU', None])  # excluding Adversarial Learning because it fails on Jupyter Notebooks\n",
    "        if augment is not None:\n",
    "            augment_alpha = trial.suggest_float('augment_alpha', low=0.0, high=1.0)\n",
    "        else:\n",
    "            augment_alpha = 0\n",
    "\n",
    "        ### Early Stopping\n",
    "        early_stopping_plateau_count = trial.suggest_int('early_stopping_plateau_count', low=20, high=50, step=1)\n",
    "        \n",
    "        ## Scheulder parameters\n",
    "        t_0 = trial.suggest_int('T_0', low=2, high=10, step=1)\n",
    "        t_mult = trial.suggest_int('T_mult', low=1, high=3, step=1)\n",
    "\n",
    "        # init model\n",
    "        model = BanditNRNClassifier(\n",
    "            target_names=['benign_label'],\n",
    "            feature_names=list(data.feature_names),\n",
    "            input_size=len(data.feature_names),\n",
    "            output_size=1,\n",
    "            layer_sizes=layer_sizes,\n",
    "            n_selected_features_input=n_selected_features_input,\n",
    "            n_selected_features_internal=n_selected_features_internal,\n",
    "            n_selected_features_output=n_selected_features_output,\n",
    "            perform_prune_quantile=perform_prune_quantile,\n",
    "            ucb_scale=ucb_scale,\n",
    "            prune_strategy=prune_strategy,\n",
    "            normal_form=normal_form,\n",
    "            delta=delta,\n",
    "            bootstrap=bootstrap,\n",
    "            swa=swa,\n",
    "            add_negations=add_negations,\n",
    "            weight_init=weight_init,\n",
    "            logits=True\n",
    "        )\n",
    "\n",
    "        epochs = 200\n",
    "        accumulation_steps = 1\n",
    "        optimizer = optim.AdamW(model.rn.parameters(), lr=learning_rate, weight_decay=weight_decay)\n",
    "        scheduler = optim.lr_scheduler.CosineAnnealingWarmRestarts(optimizer, T_0=t_0, T_mult=t_mult)\n",
    "        trainer = BanditNRNTrainer(\n",
    "            model=model,\n",
    "            loss_func=nn.BCEWithLogitsLoss(),\n",
    "            optimizer=optimizer,\n",
    "            scheduler=scheduler,\n",
    "            epochs=epochs,\n",
    "            accumulation_steps=accumulation_steps,\n",
    "            l1_lambda=l1_lambda,\n",
    "            early_stopping_plateau_count=early_stopping_plateau_count,\n",
    "            perform_prune_plateau_count=perform_prune_plateau_count,\n",
    "            increase_prune_plateau_count=increase_prune_plateau_count,\n",
    "            increase_prune_plateau_count_plateau_count=increase_prune_plateau_count_plateau_count,\n",
    "            lookahead_steps=lookahead_steps,\n",
    "            lookahead_steps_size=lookahead_steps_size,\n",
    "            augment=augment,\n",
    "            augment_alpha=augment_alpha\n",
    "        )\n",
    "\n",
    "        # train model\n",
    "        # The trainer defaults to optimizing the validation roc_auc_score.  To optimize against a different metric pass the sklearn metric to the 'evaluation_metric' parameter\n",
    "        trainer.train(train_dl, train_holdout_dl, evaluation_metric=roc_auc_score, multi_class=False)\n",
    "        trainer.set_best_state()\n",
    "\n",
    "        # evaluate model\n",
    "        predictions, targets = trainer.model.predict(val_dl)\n",
    "        rn_val_performance = trainer.model.evaluate(\n",
    "            predictions=predictions,\n",
    "            labels=targets\n",
    "        )\n",
    "\n",
    "        if rn_val_performance > self.best_rn_val_performance:\n",
    "            self.best_rn_val_performance = rn_val_performance\n",
    "            self.best_model = copy.copy(trainer.model)\n",
    "            self.best_model.rn = copy.deepcopy(trainer.model.rn)\n",
    "\n",
    "        return rn_val_performance\n",
    "    \n",
    "    def tune(self):\n",
    "        # 3. Create a study object and optimize the objective function.\n",
    "        sampler = optuna.samplers.TPESampler(multivariate=True, group=True, seed=42)\n",
    "        study = optuna.create_study(direction='maximize', sampler=sampler)\n",
    "        study.optimize(self._objective, n_trials=self.n_trials)\n",
    "        return self.best_model"
   ]
  },
  {
   "cell_type": "code",
   "execution_count": null,
   "id": "41831d70",
   "metadata": {},
   "outputs": [],
   "source": [
    "best_model = TuneParameters(1).tune()"
   ]
  },
  {
   "cell_type": "markdown",
   "id": "e2dc5323-a975-4738-93dc-9d49a4962d8d",
   "metadata": {},
   "source": [
    "# Calibrated Model"
   ]
  },
  {
   "cell_type": "markdown",
   "id": "ba136507-dc77-4436-ade0-6cb85799d1c1",
   "metadata": {},
   "source": [
    "RRN's are a fuzzy logic based method.  This means that they operate with confidence scores rather than probabilities.  In some tasks we may want a probability as the output of our system and in that case we can train a calibration model to transform our RRN confidence scores to a probability."
   ]
  },
  {
   "cell_type": "code",
   "execution_count": 18,
   "id": "a3c54e1f-ae58-4e35-88ce-11912a0419be",
   "metadata": {},
   "outputs": [
    {
     "data": {
      "text/html": [
       "<style>#sk-container-id-1 {color: black;}#sk-container-id-1 pre{padding: 0;}#sk-container-id-1 div.sk-toggleable {background-color: white;}#sk-container-id-1 label.sk-toggleable__label {cursor: pointer;display: block;width: 100%;margin-bottom: 0;padding: 0.3em;box-sizing: border-box;text-align: center;}#sk-container-id-1 label.sk-toggleable__label-arrow:before {content: \"▸\";float: left;margin-right: 0.25em;color: #696969;}#sk-container-id-1 label.sk-toggleable__label-arrow:hover:before {color: black;}#sk-container-id-1 div.sk-estimator:hover label.sk-toggleable__label-arrow:before {color: black;}#sk-container-id-1 div.sk-toggleable__content {max-height: 0;max-width: 0;overflow: hidden;text-align: left;background-color: #f0f8ff;}#sk-container-id-1 div.sk-toggleable__content pre {margin: 0.2em;color: black;border-radius: 0.25em;background-color: #f0f8ff;}#sk-container-id-1 input.sk-toggleable__control:checked~div.sk-toggleable__content {max-height: 200px;max-width: 100%;overflow: auto;}#sk-container-id-1 input.sk-toggleable__control:checked~label.sk-toggleable__label-arrow:before {content: \"▾\";}#sk-container-id-1 div.sk-estimator input.sk-toggleable__control:checked~label.sk-toggleable__label {background-color: #d4ebff;}#sk-container-id-1 div.sk-label input.sk-toggleable__control:checked~label.sk-toggleable__label {background-color: #d4ebff;}#sk-container-id-1 input.sk-hidden--visually {border: 0;clip: rect(1px 1px 1px 1px);clip: rect(1px, 1px, 1px, 1px);height: 1px;margin: -1px;overflow: hidden;padding: 0;position: absolute;width: 1px;}#sk-container-id-1 div.sk-estimator {font-family: monospace;background-color: #f0f8ff;border: 1px dotted black;border-radius: 0.25em;box-sizing: border-box;margin-bottom: 0.5em;}#sk-container-id-1 div.sk-estimator:hover {background-color: #d4ebff;}#sk-container-id-1 div.sk-parallel-item::after {content: \"\";width: 100%;border-bottom: 1px solid gray;flex-grow: 1;}#sk-container-id-1 div.sk-label:hover label.sk-toggleable__label {background-color: #d4ebff;}#sk-container-id-1 div.sk-serial::before {content: \"\";position: absolute;border-left: 1px solid gray;box-sizing: border-box;top: 0;bottom: 0;left: 50%;z-index: 0;}#sk-container-id-1 div.sk-serial {display: flex;flex-direction: column;align-items: center;background-color: white;padding-right: 0.2em;padding-left: 0.2em;position: relative;}#sk-container-id-1 div.sk-item {position: relative;z-index: 1;}#sk-container-id-1 div.sk-parallel {display: flex;align-items: stretch;justify-content: center;background-color: white;position: relative;}#sk-container-id-1 div.sk-item::before, #sk-container-id-1 div.sk-parallel-item::before {content: \"\";position: absolute;border-left: 1px solid gray;box-sizing: border-box;top: 0;bottom: 0;left: 50%;z-index: -1;}#sk-container-id-1 div.sk-parallel-item {display: flex;flex-direction: column;z-index: 1;position: relative;background-color: white;}#sk-container-id-1 div.sk-parallel-item:first-child::after {align-self: flex-end;width: 50%;}#sk-container-id-1 div.sk-parallel-item:last-child::after {align-self: flex-start;width: 50%;}#sk-container-id-1 div.sk-parallel-item:only-child::after {width: 0;}#sk-container-id-1 div.sk-dashed-wrapped {border: 1px dashed gray;margin: 0 0.4em 0.5em 0.4em;box-sizing: border-box;padding-bottom: 0.4em;background-color: white;}#sk-container-id-1 div.sk-label label {font-family: monospace;font-weight: bold;display: inline-block;line-height: 1.2em;}#sk-container-id-1 div.sk-label-container {text-align: center;}#sk-container-id-1 div.sk-container {/* jupyter's `normalize.less` sets `[hidden] { display: none; }` but bootstrap.min.css set `[hidden] { display: none !important; }` so we also need the `!important` here to be able to override the default hidden behavior on the sphinx rendered scikit-learn.org. See: https://github.com/scikit-learn/scikit-learn/issues/21755 */display: inline-block !important;position: relative;}#sk-container-id-1 div.sk-text-repr-fallback {display: none;}</style><div id=\"sk-container-id-1\" class=\"sk-top-container\"><div class=\"sk-text-repr-fallback\"><pre>IsotonicRegression(out_of_bounds=&#x27;clip&#x27;, y_max=1, y_min=0)</pre><b>In a Jupyter environment, please rerun this cell to show the HTML representation or trust the notebook. <br />On GitHub, the HTML representation is unable to render, please try loading this page with nbviewer.org.</b></div><div class=\"sk-container\" hidden><div class=\"sk-item\"><div class=\"sk-estimator sk-toggleable\"><input class=\"sk-toggleable__control sk-hidden--visually\" id=\"sk-estimator-id-1\" type=\"checkbox\" checked><label for=\"sk-estimator-id-1\" class=\"sk-toggleable__label sk-toggleable__label-arrow\">IsotonicRegression</label><div class=\"sk-toggleable__content\"><pre>IsotonicRegression(out_of_bounds=&#x27;clip&#x27;, y_max=1, y_min=0)</pre></div></div></div></div></div>"
      ],
      "text/plain": [
       "IsotonicRegression(out_of_bounds='clip', y_max=1, y_min=0)"
      ]
     },
     "execution_count": 18,
     "metadata": {},
     "output_type": "execute_result"
    }
   ],
   "source": [
    "predictions, targets = best_model.predict(train_dl)\n",
    "calibrator = LogisticRegression()\n",
    "calibrator.fit(predictions, targets.values.ravel())\n",
    "calibrator2 = IsotonicRegression(y_min=0, y_max=1, out_of_bounds=\"clip\")\n",
    "calibrator2.fit(predictions, targets.values.ravel())"
   ]
  },
  {
   "cell_type": "code",
   "execution_count": 19,
   "id": "6cd5a061",
   "metadata": {},
   "outputs": [
    {
     "name": "stdout",
     "output_type": "stream",
     "text": [
      "Validation AUC:\n",
      "\n",
      " 0.9817275747508306\n",
      "\n",
      "\n",
      "Validation Precision Score:\n",
      "\n",
      " 0.9444444444444444\n",
      "\n",
      "\n",
      "LR Calibrated Validation AUC:\n",
      "\n",
      " 0.9817275747508306\n",
      "\n",
      "\n",
      "LR Calibrated Validation Precision Score:\n",
      "\n",
      " 0.9577464788732394\n",
      "\n",
      "\n",
      "IR Calibrated Validation AUC:\n",
      "\n",
      " 0.9843853820598006\n",
      "\n",
      "\n",
      "IR Calibrated Validation Precision Score:\n",
      "\n",
      " 0.9848484848484849\n"
     ]
    }
   ],
   "source": [
    "predictions, targets = best_model.predict(val_dl)\n",
    "# Evaluate defaults to compute AUC\n",
    "rn_val_performance = best_model.evaluate(\n",
    "    predictions=predictions,\n",
    "    labels=targets,\n",
    "    multi_class=False\n",
    ")\n",
    "\n",
    "class_predictions = (predictions > 0.5).astype(int)\n",
    "print(\"Validation AUC:\\n\\n\", rn_val_performance)\n",
    "\n",
    "# Evaluate with a different metric\n",
    "rn_val_performance = best_model.evaluate(\n",
    "    predictions=predictions,\n",
    "    labels=targets,\n",
    "    output_metric=precision_score,\n",
    "    multi_class=False\n",
    ")\n",
    "print(\"\\n\\nValidation Precision Score:\\n\\n\", rn_val_performance)\n",
    "\n",
    "# Apply calibration transformation\n",
    "predictions_probs = calibrator.predict_proba(predictions)[:, 1]\n",
    "calibrated_predictions = calibrator.predict(predictions)\n",
    "\n",
    "print(\"\\n\\nLR Calibrated Validation AUC:\\n\\n\", roc_auc_score(targets, predictions_probs))\n",
    "print(\"\\n\\nLR Calibrated Validation Precision Score:\\n\\n\", precision_score(targets, calibrated_predictions))\n",
    "\n",
    "# Apply calibration transformation\n",
    "predictions_probs = calibrator2.predict(predictions)\n",
    "calibrated_predictions = (predictions_probs > 0.5).astype(int)\n",
    "\n",
    "print(\"\\n\\nIR Calibrated Validation AUC:\\n\\n\", roc_auc_score(targets, predictions_probs))\n",
    "print(\"\\n\\nIR Calibrated Validation Precision Score:\\n\\n\", precision_score(targets, calibrated_predictions))"
   ]
  },
  {
   "cell_type": "code",
   "execution_count": 20,
   "id": "7529fb59-44be-41be-9507-18472cf78702",
   "metadata": {},
   "outputs": [
    {
     "name": "stdout",
     "output_type": "stream",
     "text": [
      "Test AUC:\n",
      "\n",
      " 0.9955882352941177\n",
      "\n",
      "\n",
      "Test Precision Score:\n",
      "\n",
      " 0.7547169811320755\n",
      "\n",
      "\n",
      "Calibrated Test AUC:\n",
      "\n",
      " 0.9955882352941177\n",
      "\n",
      "\n",
      "Calibrated Test Precision Score:\n",
      "\n",
      " 0.7547169811320755\n",
      "\n",
      "\n",
      "IR Calibrated Validation AUC:\n",
      "\n",
      " 0.9588235294117647\n",
      "\n",
      "\n",
      "IR Calibrated Validation Precision Score:\n",
      "\n",
      " 0.851063829787234\n"
     ]
    }
   ],
   "source": [
    "predictions, targets = best_model.predict(test_dl)\n",
    "# Evaluate defaults to compute AUC\n",
    "rn_test_performance = best_model.evaluate(\n",
    "    predictions=predictions,\n",
    "    labels=targets,\n",
    "    multi_class=False\n",
    ")\n",
    "predictions = expit(predictions)\n",
    "class_predictions = (predictions > 0.5).astype(int)\n",
    "print(\"Test AUC:\\n\\n\", rn_test_performance)\n",
    "\n",
    "# Evaluate with a different metric\n",
    "rn_val_performance = best_model.evaluate(\n",
    "    predictions=predictions,\n",
    "    labels=targets,\n",
    "    output_metric=precision_score,\n",
    "    multi_class=False\n",
    ")\n",
    "print(\"\\n\\nTest Precision Score:\\n\\n\", rn_val_performance)\n",
    "\n",
    "# Apply calibration transformation\n",
    "predictions_probs = calibrator.predict_proba(predictions)[:, 1]\n",
    "calibrated_predictions = calibrator.predict(predictions)\n",
    "\n",
    "print(\"\\n\\nCalibrated Test AUC:\\n\\n\", roc_auc_score(targets, predictions_probs))\n",
    "print(\"\\n\\nCalibrated Test Precision Score:\\n\\n\", precision_score(targets, calibrated_predictions))\n",
    "\n",
    "# Apply calibration transformation\n",
    "predictions_probs = calibrator2.predict(predictions)\n",
    "calibrated_predictions = (predictions_probs > 0.5).astype(int)\n",
    "\n",
    "print(\"\\n\\nIR Calibrated Validation AUC:\\n\\n\", roc_auc_score(targets, predictions_probs))\n",
    "print(\"\\n\\nIR Calibrated Validation Precision Score:\\n\\n\", precision_score(targets, calibrated_predictions))"
   ]
  },
  {
   "cell_type": "code",
   "execution_count": 21,
   "id": "af3a4c0d",
   "metadata": {},
   "outputs": [
    {
     "data": {
      "text/plain": [
       "array([[<Axes: title={'center': 'probs_benign'}>]], dtype=object)"
      ]
     },
     "execution_count": 21,
     "metadata": {},
     "output_type": "execute_result"
    },
    {
     "data": {
      "image/png": "[encoded data removed]",
      "text/plain": [
       "<Figure size 640x480 with 1 Axes>"
      ]
     },
     "metadata": {},
     "output_type": "display_data"
    }
   ],
   "source": [
    "predictions.hist()"
   ]
  },
  {
   "cell_type": "code",
   "execution_count": 22,
   "id": "6f33a231-9bf6-410a-87dc-99c624a84797",
   "metadata": {},
   "outputs": [
    {
     "data": {
      "text/plain": [
       "array([[<Axes: title={'center': 'calibrated_predictions'}>]], dtype=object)"
      ]
     },
     "execution_count": 22,
     "metadata": {},
     "output_type": "execute_result"
    },
    {
     "data": {
      "image/png": "[encoded data removed]",
      "text/plain": [
       "<Figure size 640x480 with 1 Axes>"
      ]
     },
     "metadata": {},
     "output_type": "display_data"
    }
   ],
   "source": [
    "pd.DataFrame(predictions_probs, columns=['calibrated_predictions']).hist()"
   ]
  },
  {
   "cell_type": "code",
   "execution_count": 23,
   "id": "47511e9f-0d81-4d82-a656-7a32fd71deb7",
   "metadata": {},
   "outputs": [
    {
     "data": {
      "text/plain": [
       "array([[<Axes: title={'center': 'benign_label'}>]], dtype=object)"
      ]
     },
     "execution_count": 23,
     "metadata": {},
     "output_type": "execute_result"
    },
    {
     "data": {
      "image/png": "[encoded data removed]",
      "text/plain": [
       "<Figure size 640x480 with 1 Axes>"
      ]
     },
     "metadata": {},
     "output_type": "display_data"
    }
   ],
   "source": [
    "targets.hist()"
   ]
  },
  {
   "cell_type": "markdown",
   "id": "9f691841-5a3f-4d83-8c58-b2753f6af9cf",
   "metadata": {},
   "source": [
    "### Check calibration of test data"
   ]
  },
  {
   "cell_type": "code",
   "execution_count": 24,
   "id": "b712fb51-391d-4098-a652-12bc398077f6",
   "metadata": {},
   "outputs": [
    {
     "data": {
      "image/png": "[encoded data removed]",
      "text/plain": [
       "<Figure size 640x480 with 1 Axes>"
      ]
     },
     "metadata": {},
     "output_type": "display_data"
    }
   ],
   "source": [
    "disp = CalibrationDisplay.from_estimator(calibrator, predictions, targets)\n",
    "disp = CalibrationDisplay.from_predictions(targets, predictions_probs, ax=disp.ax_, name=\"IsotonicRegression\")\n",
    "disp = CalibrationDisplay.from_predictions(targets, predictions, ax=disp.ax_, name=\"Bandit-RRN\")\n",
    "plt.show()"
   ]
  },
  {
   "cell_type": "markdown",
   "id": "84b127fa",
   "metadata": {},
   "source": [
    "# Inspecting the Model"
   ]
  },
  {
   "cell_type": "markdown",
   "id": "b16c882a",
   "metadata": {},
   "source": [
    "### Global Explain"
   ]
  },
  {
   "cell_type": "markdown",
   "id": "9d9292d6",
   "metadata": {},
   "source": [
    "A global explanation prints the logic learned for each class.  The `quantile` parameter is the percent of the model you would like to be explained.\n",
    "\n",
    "We represent our features as values scaled between 0 and 1.  Therefore, we intepret the explanations to mean that large values for a particular feature represent `truthiness` of a predicate, while small values represent `falseness` of a predicate.\n",
    "\n",
    "For example, the following logic for the class `setosa`:\n",
    "\n",
    "```\n",
    "A flower is in the setosa class because: \n",
    "AND(\n",
    "    NOT(AND(\n",
    "            sepal width (cm) >= 0.77405,\n",
    "            petal length (cm) >= 0.4397)),\n",
    "    NOT(OR(\n",
    "            AND(\n",
    "            sepal width (cm) >= 0.67788,\n",
    "            petal length (cm) >= 0.20122),\n",
    "            NOT(sepal width (cm) >= 0.48579))))\n",
    "```\n",
    "\n",
    "The `logic` from above is intepreted as:\n",
    "\n",
    "```\n",
    "When BOTH of the following are true the class is \"setosa\":\n",
    "    1. The flower has a sepal width below the 77th percentile, and has a petal length below the 44th percentile.\n",
    "    2. The flower has a sepal width below the 68th percentile and a petal length below the 20th percentile; OR the flower has a sepal width above the 49th percentile.\n",
    "```"
   ]
  },
  {
   "cell_type": "markdown",
   "id": "0f263f21-e2e9-4cd1-8b9c-5e652b1af4ce",
   "metadata": {},
   "source": [
    "#### Print Types\n",
    "\n",
    "The explanation and printing methods can all be set to use different `print_type` parameters.  Each will produce a different style of explanation that may be used for different end-users.\n",
    "\n",
    "`logical`: produces a logic statement format such as:\n",
    "\n",
    "    AND(x1, x2)\n",
    "    \n",
    "`logical-natural`: produces a natural language formatted nested tree format, such as:\n",
    "\n",
    "    the following are TRUE:\n",
    "        - x1\n",
    "        - x2\n",
    "        \n",
    "`natural`: produces a natural lanugage paragraph indicating the most important logics, to the least important logics, such as:\n",
    "\n",
    "    Each one of the following must be met.  x1, and x2.\n"
   ]
  },
  {
   "cell_type": "code",
   "execution_count": 36,
   "id": "8c71c191-3961-4ce6-9027-7f66e5c3b904",
   "metadata": {},
   "outputs": [
    {
     "name": "stdout",
     "output_type": "stream",
     "text": [
      "The patient is in the benign because: \n",
      "\n",
      "\n",
      "OR \n",
      "\tThe concavity error was >= 0.396\n",
      "\tNOT \n",
      "\t\tThe mean radius was >= 6.981\n"
     ]
    }
   ],
   "source": [
    "print(best_model.explain(\n",
    "    quantile=1.0,\n",
    "    required_output_thresholds=np.array(0.75),\n",
    "    explain_type='both',\n",
    "    print_type='logical', \n",
    "    explanation_prefix=\"The patient is in the\",\n",
    "    target_names=['benign'],\n",
    "    ignore_uninformative=True,\n",
    "    rounding_precision=4,\n",
    "    decision_boundary=0.65,\n",
    "    inverse_transform=mms.inverse_transform\n",
    "))"
   ]
  },
  {
   "cell_type": "code",
   "execution_count": 39,
   "id": "1d0d0a4a",
   "metadata": {},
   "outputs": [
    {
     "name": "stdout",
     "output_type": "stream",
     "text": [
      "The patient is in the not benign because: \n",
      "\n",
      "\n",
      "Any of the following are true: \n",
      "\tThe mean radius was >= 12.307\n",
      "\tThe worst concave points was >= 0.055\n",
      "\tIt was not true that \n",
      "\t\tThe concavity error was >= 0.396\n"
     ]
    }
   ],
   "source": [
    "print(best_model.explain(\n",
    "    quantile=1.0,\n",
    "    required_output_thresholds=np.array(0.6),\n",
    "    explain_type='both',\n",
    "    print_type='logical-natural', \n",
    "    explanation_prefix=\"The patient is in the\",\n",
    "    target_names=['benign'],\n",
    "    ignore_uninformative=True,\n",
    "    rounding_precision=3,\n",
    "    decision_boundary=0.65,\n",
    "    inverse_transform=mms.inverse_transform\n",
    "))"
   ]
  },
  {
   "cell_type": "markdown",
   "id": "c18a8229",
   "metadata": {},
   "source": [
    "### Sample Explain"
   ]
  },
  {
   "cell_type": "markdown",
   "id": "a5e9d6fa",
   "metadata": {},
   "source": [
    "A sample explanation prints the logic that was used for a particular sample's predition. The `quantile` parameter is the percent of the model you would like to be explained."
   ]
  },
  {
   "cell_type": "code",
   "execution_count": 27,
   "id": "6692ba2a-b60e-487a-8379-fec36184a447",
   "metadata": {},
   "outputs": [
    {
     "name": "stdout",
     "output_type": "stream",
     "text": [
      "0: The patient was in the not benign because: \n",
      "\n",
      "\n",
      "All the following are true: \n",
      "\tThe concave points error was less than 0.053 (6th percentile)\n",
      "\tThe concavity error was less than 0.279 (36th percentile)\n",
      "\tThe mean radius was greater than or equal to 13.65 (1408th percentile)\n",
      "\tThe worst concave points was greater than or equal to 0.144 (14th percentile)\n",
      "\tThe worst perimeter was greater than or equal to 50.41 (5143th percentile)\n",
      "\tThe worst symmetry was greater than or equal to 0.156 (15th percentile)\n"
     ]
    }
   ],
   "source": [
    "print(best_model.explain_samples(\n",
    "            val_dataset[0]['features'].unsqueeze(0),\n",
    "            quantile=1.0,\n",
    "            target_names=['benign'], \n",
    "            explain_type='both',\n",
    "            sample_explanation_prefix=\"The patient was in the\",\n",
    "            print_type='logical-natural',\n",
    "            ignore_uninformative=True,\n",
    "            rounding_precision=3,\n",
    "            decision_boundary=0.75,\n",
    "            inverse_transform=mms.inverse_transform,\n",
    "            min_max_feature_dict={col: {'min': X_train[:, i].min(), 'max': X_train[:, i].max()} for i, col in enumerate(list(data.feature_names))},\n",
    "            simplify=True,\n",
    "            exclusions=None\n",
    "))"
   ]
  },
  {
   "cell_type": "code",
   "execution_count": 28,
   "id": "5ddde0bb-f822-4fd1-bdc4-5871bd1a14b3",
   "metadata": {},
   "outputs": [
    {
     "name": "stdout",
     "output_type": "stream",
     "text": [
      "0: The patient was not benign because: \n",
      "\n",
      "\n",
      "All the following are true: \n",
      "\tThe concave points error was less than 0.053 (100th percentile)\n",
      "\tThe concavity error was less than 0.168 (42th percentile)\n",
      "\tThe mean radius was greater than or equal to 14.899 (37th percentile)\n",
      "\tThe worst concave points was greater than or equal to 0.177 (60th percentile)\n",
      "\tThe worst perimeter was greater than or equal to 50.41 (0th percentile)\n",
      "\tThe worst symmetry was greater than or equal to 0.156 (0th percentile)\n"
     ]
    }
   ],
   "source": [
    "print(best_model.explain_samples(\n",
    "    val_dataset[5]['features'].unsqueeze(0),\n",
    "    quantile=1.0,\n",
    "    target_names=['benign'], \n",
    "    explain_type='both',\n",
    "    sample_explanation_prefix=\"The patient was\",\n",
    "    print_type='logical-natural',\n",
    "    ignore_uninformative=True,\n",
    "    rounding_precision=3,\n",
    "    decision_boundary=0.75,\n",
    "    inverse_transform=mms.inverse_transform,\n",
    "    min_max_feature_dict={col: {'min': data.data[:, i].min(), 'max': data.data[:, i].max()} for i, col in enumerate(list(data.feature_names))},\n",
    "    simplify=True,\n",
    "    exclusions=None\n",
    "))"
   ]
  },
  {
   "cell_type": "code",
   "execution_count": null,
   "id": "2e22f7d9-7499-497f-a870-e9b39659b643",
   "metadata": {},
   "outputs": [],
   "source": [
    "print(best_model.llm_prompt_samples(\n",
    "    prompt = \"You are a superintelligent medial assistant well versed in oncology.  Interpret the following insights about a patient's tumor that is classified as either benign or malignant.  Add medical context and interpret the results as if you were explaining to a patient.  Give less importance to features that are greater than the 0th percentile or less than the 100th percentile.  If a feature is between the 0th and 33rd percentiles it is considered 'low'.  If a feature is between the 34th and 66th percentiles it is considered medium.  If a feature is between the 67th and 100th percentiles it is considered high.\",\n",
    "    x = val_dataset[5]['features'].unsqueeze(0),\n",
    "    quantile = 1.0,\n",
    "    target_names = ['benign'],\n",
    "    explain_type = 'both',\n",
    "    print_type = 'logical-natural',\n",
    "    sample_explanation_prefix=\"The patient's tumor was\",\n",
    "    ignore_uninformative = True,\n",
    "    rounding_precision = 3,\n",
    "    inverse_transform=mms.inverse_transform,\n",
    "    decision_boundary=0.75,\n",
    "    show_bounds = True,\n",
    "    simplify = True,\n",
    "    min_max_feature_dict={col: {'min': data.data[:, i].min(), 'max': data.data[:, i].max()} for i, col in enumerate(list(data.feature_names))},\n",
    "    max_tokens=1000\n",
    "))"
   ]
  },
  {
   "cell_type": "markdown",
   "id": "e0a47d5d",
   "metadata": {},
   "source": [
    "### Printing the weights"
   ]
  },
  {
   "cell_type": "markdown",
   "id": "80350a16",
   "metadata": {},
   "source": [
    "We can inspect the weights the model learned for each logic to see how important they are to the overall prediction."
   ]
  },
  {
   "cell_type": "code",
   "execution_count": 30,
   "id": "81d8397b-74dd-4ec6-be39-d5d43943bdbd",
   "metadata": {},
   "outputs": [
    {
     "name": "stdout",
     "output_type": "stream",
     "text": [
      "REASONING NETWORK MODEL FOR: negative of benign\n",
      "Logic at depth 2: NOT(the worst perimeter was >= 50.41), NOT(the worst symmetry was >= 0.156), the concave points error was >= 0.053\n",
      "output: tensor([0.4342, 0.2818, 0.1642])\n",
      "\n",
      "Logic at depth 1: ['NOT(OR(NOT(the worst perimeter was >= 50.41), NOT(the worst symmetry was >= 0.156), the concave points error was >= 0.053))']\n",
      "weights: tensor([-0.0042,  0.1867,  0.0147])\n",
      "output: 0.942606508731842\n",
      "required_threshold: 1.0\n",
      "\n",
      "Logic at depth 2: NOT(the concavity error was >= 0.279), the mean radius was >= 13.65, the worst concave points was >= 0.144\n",
      "output: tensor([0.5172, 0.3445, 0.3624])\n",
      "\n",
      "Logic at depth 1: ['OR(NOT(the concavity error was >= 0.279), the mean radius was >= 13.65, the worst concave points was >= 0.144)']\n",
      "weights: tensor([-0.4345, -0.3231,  0.0273])\n",
      "output: 0.43146154284477234\n",
      "required_threshold: 0.4407946467399597\n",
      "\n",
      "Logic at depth 0: ['AND(NOT(OR(NOT(the worst perimeter was >= 50.41), NOT(the worst symmetry was >= 0.156), the concave points error was >= 0.053)), OR(NOT(the concavity error was >= 0.279), the mean radius was >= 13.65, the worst concave points was >= 0.144))']\n",
      "weights: tensor([-0.0412,  0.6643])\n",
      "output: 0.619975209236145\n",
      "required_threshold: 0.6261748671531677\n",
      "\n"
     ]
    }
   ],
   "source": [
    "best_model.print_samples(\n",
    "    val_dataset[0]['features'].unsqueeze(0),\n",
    "    quantile=1.0,\n",
    "    target_names=['benign'], \n",
    "    explain_type='both',\n",
    "    print_type='logical',\n",
    "    ignore_uninformative=False,\n",
    "    rounding_precision=3,\n",
    "    decision_boundary=0.7,\n",
    "    inverse_transform=mms.inverse_transform\n",
    ")"
   ]
  },
  {
   "cell_type": "code",
   "execution_count": 31,
   "id": "cb1326c1",
   "metadata": {},
   "outputs": [
    {
     "name": "stdout",
     "output_type": "stream",
     "text": [
      "REASONING NETWORK MODEL FOR: negative of benign\n",
      "Logic at depth 2: NOT(the worst perimeter was >= 50.41), NOT(the worst symmetry was >= 0.156), the concave points error was >= 0.053\n",
      "output: tensor([0.1729, 0.2305, 0.1244])\n",
      "\n",
      "Logic at depth 1: ['NOT(OR(NOT(the worst perimeter was >= 50.41), NOT(the worst symmetry was >= 0.156), the concave points error was >= 0.053))']\n",
      "weights: tensor([-0.0042,  0.1867,  0.0147])\n",
      "output: 0.9516932964324951\n",
      "required_threshold: 1.0\n",
      "\n",
      "Logic at depth 2: NOT(the concavity error was >= 0.16), the mean radius was >= 12.696, the worst concave points was >= 0.071\n",
      "output: tensor([0.2668, 0.3029, 0.0200])\n",
      "\n",
      "Logic at depth 1: ['OR(NOT(the concavity error was >= 0.16), the mean radius was >= 12.696, the worst concave points was >= 0.071)']\n",
      "weights: tensor([-0.4345, -0.3231,  0.0273])\n",
      "output: 0.5443799495697021\n",
      "required_threshold: 0.5548479557037354\n",
      "\n",
      "Logic at depth 0: ['AND(NOT(OR(NOT(the worst perimeter was >= 50.41), NOT(the worst symmetry was >= 0.156), the concave points error was >= 0.053)), OR(NOT(the concavity error was >= 0.16), the mean radius was >= 12.696, the worst concave points was >= 0.071))']\n",
      "weights: tensor([-0.0412,  0.6643])\n",
      "output: 0.6953573226928711\n",
      "required_threshold: 0.7023108601570129\n",
      "\n"
     ]
    }
   ],
   "source": [
    "best_model.print_samples(\n",
    "    val_dataset[2]['features'].unsqueeze(0),\n",
    "    quantile=1.0,\n",
    "    target_names=['benign'], \n",
    "    explain_type='both',\n",
    "    print_type='logical',\n",
    "    ignore_uninformative=False,\n",
    "    rounding_precision=3,\n",
    "    decision_boundary=0.7,\n",
    "    inverse_transform=mms.inverse_transform,\n",
    ")"
   ]
  },
  {
   "cell_type": "code",
   "execution_count": 32,
   "id": "bf22a50e-ac0d-4813-8188-562cf1225680",
   "metadata": {},
   "outputs": [
    {
     "name": "stdout",
     "output_type": "stream",
     "text": [
      "REASONING NETWORK MODEL FOR: benign\n",
      "Logic at depth 2: \n",
      "output: tensor([0., 1., 1.])\n",
      "\n",
      "Logic at depth 2: NOT(the mean radius was >= 0.0), the concavity error was >= 1.0\n",
      "output: tensor([0.1560, 0.0000, 1.0000])\n",
      "\n",
      "Logic at depth 1: ['OR(NOT(the mean radius was >= 0.0), the concavity error was >= 1.0)']\n",
      "weights: tensor([-0.4345, -0.3231,  0.0273])\n",
      "output: 0.7630000114440918\n",
      "required_threshold: 0.7609356641769409\n",
      "\n",
      "Logic at depth 0: ['OR(NOT(the mean radius was >= 0.0), the concavity error was >= 1.0)']\n",
      "weights: tensor([-0.0412,  0.6643])\n",
      "output: 0.8009999990463257\n",
      "required_threshold: 0.800000011920929\n",
      "\n"
     ]
    }
   ],
   "source": [
    "best_model.print(\n",
    "    quantile=1.0,\n",
    "    required_output_thresholds=torch.tensor(0.8),\n",
    "    explain_type='both',\n",
    "    print_type='logical', \n",
    "    target_names=['benign'],\n",
    "    ignore_uninformative=False,\n",
    "    rounding_precision=3,\n",
    "    decision_boundary=0.7,\n",
    "    # inverse_transform=mms.inverse_transform\n",
    ")"
   ]
  },
  {
   "cell_type": "code",
   "execution_count": 33,
   "id": "1eaf8999-9c3e-4e83-baee-b58226000049",
   "metadata": {},
   "outputs": [
    {
     "name": "stdout",
     "output_type": "stream",
     "text": [
      "REASONING NETWORK MODEL FOR: negative of benign\n",
      "Logic at depth 2: \n",
      "output: tensor([1., 0., 0.])\n",
      "\n",
      "Logic at depth 2: NOT(the concavity error was >= 1.0), the mean radius was >= 0.252, the worst concave points was >= 0.188\n",
      "output: tensor([0.4980, 0.6690, 0.0000])\n",
      "\n",
      "Logic at depth 1: ['OR(NOT(the concavity error was >= 1.0), the mean radius was >= 0.252, the worst concave points was >= 0.188)']\n",
      "weights: tensor([-0.4345, -0.3231,  0.0273])\n",
      "output: 0.45899999141693115\n",
      "required_threshold: 0.45985114574432373\n",
      "\n",
      "Logic at depth 0: ['OR(NOT(the concavity error was >= 1.0), the mean radius was >= 0.252, the worst concave points was >= 0.188)']\n",
      "weights: tensor([-0.0412,  0.6643])\n",
      "output: 0.5989999771118164\n",
      "required_threshold: 0.6000000238418579\n",
      "\n"
     ]
    }
   ],
   "source": [
    "best_model.print(\n",
    "    quantile=1.0,\n",
    "    required_output_thresholds=torch.tensor(0.6),\n",
    "    explain_type='both',\n",
    "    print_type='logical', \n",
    "    target_names=['benign'],\n",
    "    ignore_uninformative=False,\n",
    "    rounding_precision=3,\n",
    "    decision_boundary=0.7,\n",
    "    # inverse_transform=mms.inverse_transform\n",
    ")"
   ]
  },
  {
   "cell_type": "code",
   "execution_count": null,
   "id": "07896ae1-5757-4634-a071-079aba40b7ee",
   "metadata": {},
   "outputs": [],
   "source": []
  }
 ],
 "metadata": {
  "kernelspec": {
   "display_name": "Python 3 (ipykernel)",
   "language": "python",
   "name": "python3"
  },
  "language_info": {
   "codemirror_mode": {
    "name": "ipython",
    "version": 3
   },
   "file_extension": ".py",
   "mimetype": "text/x-python",
   "name": "python",
   "nbconvert_exporter": "python",
   "pygments_lexer": "ipython3",
   "version": "3.9.6"
  }
 },
 "nbformat": 4,
 "nbformat_minor": 5
}
